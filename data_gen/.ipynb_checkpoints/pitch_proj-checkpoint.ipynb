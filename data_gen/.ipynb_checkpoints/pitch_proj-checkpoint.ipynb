{
 "cells": [
  {
   "cell_type": "code",
   "execution_count": 1,
   "id": "7d83d768-d779-42ab-95e9-76def247a6e1",
   "metadata": {},
   "outputs": [],
   "source": [
    "import pandas as pd\n",
    "import numpy as np\n",
    "import warnings\n",
    "from xgboost import XGBClassifier\n",
    "import joblib\n",
    "from sklearn.model_selection import train_test_split\n",
    "from sklearn.metrics import classification_report"
   ]
  },
  {
   "cell_type": "code",
   "execution_count": 2,
   "id": "bb96dbce-ac95-45de-aafe-bb94f90ceba2",
   "metadata": {},
   "outputs": [],
   "source": [
    "def datasets(path):\n",
    "    df = pd.read_csv(path)\n",
    "    df = df[['game_pk', 'ab_number', 'stand', 'pitcher', 'pitcher_name', 'pitch_type', 'start_speed', 'zone', 'balls', 'strikes', 'outs', 'runnerOn1B', 'runnerOn2B', 'runnerOn3B']]\n",
    "    df.dropna(subset=['pitch_type', 'zone', 'start_speed'], axis=0, inplace=True)\n",
    "    df['zone'] = df['zone'].astype('int')\n",
    "    df['runnerOn1B'].fillna(value=0, inplace=True)\n",
    "    df['runnerOn2B'].fillna(value=0, inplace=True)\n",
    "    df['runnerOn3B'].fillna(value=0, inplace=True)\n",
    "    \n",
    "    df['runnerOn1B'] = np.where(df['runnerOn1B'] == True, 1, 0)\n",
    "    df['runnerOn2B'] = np.where(df['runnerOn1B'] == True, 1, 0)\n",
    "    df['runnerOn3B'] = np.where(df['runnerOn1B'] == True, 1, 0)\n",
    "    \n",
    "    df['stand'] = np.where(df['stand'] == 'R', 1, 0)\n",
    "    \n",
    "    return df\n",
    "\n"
   ]
  },
  {
   "cell_type": "code",
   "execution_count": 3,
   "id": "2eaac416-2185-43e9-b96f-27025f0701c6",
   "metadata": {},
   "outputs": [],
   "source": [
    "# df2022 = datasets(\"/Users/nickdimmitt/Desktop/dfs_local/sequences/raw/single_play_2022.csv\")\n",
    "# df2021 = datasets(\"/Users/nickdimmitt/Desktop/dfs_local/sequences/raw/single_play_2021.csv\")\n",
    "# df2020 = datasets(\"/Users/nickdimmitt/Desktop/dfs_local/sequences/raw/single_play_2020.csv\")\n",
    "# df2019 = datasets(\"/Users/nickdimmitt/Desktop/dfs_local/sequences/raw/single_play_2019.csv\")\n",
    "# df2018 = datasets(\"/Users/nickdimmitt/Desktop/dfs_local/sequences/raw/single_play_2018.csv\")\n",
    "# df2017 = datasets(\"/Users/nickdimmitt/Desktop/dfs_local/sequences/raw/single_play_2017.csv\")\n",
    "# df2016 = datasets(\"/Users/nickdimmitt/Desktop/dfs_local/sequences/raw/single_play_2016.csv\")\n",
    "# df2015 = datasets(\"/Users/nickdimmitt/Desktop/dfs_local/sequences/raw/single_play_2015.csv\")"
   ]
  },
  {
   "cell_type": "code",
   "execution_count": 4,
   "id": "01ed6cc7-de8c-41f3-ac48-f909fb85ad50",
   "metadata": {},
   "outputs": [],
   "source": [
    "# df = pd.concat([df2022, df2021, df2020, df2019, df2018, df2017, df2016, df2015], axis=0)\n",
    "# df.to_csv(\"df.csv\")"
   ]
  },
  {
   "cell_type": "code",
   "execution_count": 25,
   "id": "9adcffea-3702-4863-a373-148a2560fdf7",
   "metadata": {},
   "outputs": [],
   "source": [
    "def data_prep(path):\n",
    "    \n",
    "    df = pd.read_csv(path)\n",
    "\n",
    "    pitchers = list(set(df['pitcher_name']))\n",
    "    \n",
    "    mapper = {}\n",
    "    for pitcher in pitchers:\n",
    "        pitch_type = list(set(df[df['pitcher_name'] == pitcher]['pitch_type']))\n",
    "        mapper[pitcher] = {x:i for x,i in zip(pitch_type, range(len(pitch_type)))}\n",
    "    \n",
    "    # mapper = {pitcher:{x:i for x,i in zip(list(set(df[df['pitcher_name'] == pitcher]['pitch_type'])), range(len(list(set(df[df['pitcher_name'] == pitcher]['pitch_type'])))))} for pitcher in pitchers}\n",
    "    \n",
    "    return pitchers, mapper"
   ]
  },
  {
   "cell_type": "code",
   "execution_count": 26,
   "id": "7ae018dc-c4d3-49a8-83ba-68c2359090f3",
   "metadata": {},
   "outputs": [],
   "source": [
    "pitchers, mapper = data_prep('df.csv')"
   ]
  },
  {
   "cell_type": "code",
   "execution_count": 27,
   "id": "c9cc22b2-7fe2-46d3-a83d-e7c8783fa818",
   "metadata": {},
   "outputs": [],
   "source": [
    "pd.DataFrame(mapper).to_csv('mapper.csv')"
   ]
  },
  {
   "cell_type": "code",
   "execution_count": null,
   "id": "b502f860-68e1-4a48-9d24-d4a819f04336",
   "metadata": {},
   "outputs": [],
   "source": []
  }
 ],
 "metadata": {
  "kernelspec": {
   "display_name": "Python 3 (ipykernel)",
   "language": "python",
   "name": "python3"
  },
  "language_info": {
   "codemirror_mode": {
    "name": "ipython",
    "version": 3
   },
   "file_extension": ".py",
   "mimetype": "text/x-python",
   "name": "python",
   "nbconvert_exporter": "python",
   "pygments_lexer": "ipython3",
   "version": "3.9.13"
  }
 },
 "nbformat": 4,
 "nbformat_minor": 5
}
