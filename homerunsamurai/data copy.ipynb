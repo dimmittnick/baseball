{
 "cells": [
  {
   "cell_type": "code",
   "execution_count": 1,
   "id": "629874d2-9527-44a3-a2dc-20a0a9cf897f",
   "metadata": {},
   "outputs": [],
   "source": [
    "import pandas as pd\n",
    "import numpy as np\n",
    "import warnings\n",
    "import json\n",
    "import requests\n",
    "import os\n",
    "import io\n",
    "import sys\n",
    "from lxml import etree, html\n",
    "from datetime import date\n",
    "from datetime import timedelta\n",
    "warnings.filterwarnings(\"ignore\")\n",
    "\n",
    "today = date.today()\n",
    "yesterday = str(today - timedelta(days = 1))"
   ]
  },
  {
   "cell_type": "code",
   "execution_count": 2,
   "id": "324d7289",
   "metadata": {},
   "outputs": [],
   "source": [
    "replace = {\n",
    "    'S. Fujinami': 'Shintaro Fujinami',\n",
    "    'A. DeSclafani': 'Anthony DeSclafani',\n",
    "    'G. Rodriguez':'Grayson Rodriguez'\n",
    "}"
   ]
  },
  {
   "cell_type": "code",
   "execution_count": 3,
   "id": "8cafff13-b6d8-4a25-9d1d-f0bb14440765",
   "metadata": {},
   "outputs": [],
   "source": [
    "df = pd.read_csv(\"/Users/nickdimmitt/Desktop/dfs_local/mlb/data/single_play_2022.csv\")"
   ]
  },
  {
   "cell_type": "code",
   "execution_count": 4,
   "id": "a211f0c8",
   "metadata": {},
   "outputs": [],
   "source": [
    "## function that extracts nexted values from a JSON tree\n",
    "def json_extract(tree, key):\n",
    "    arr = []\n",
    "\n",
    "    def extract(tree, arr, key):\n",
    "        if isinstance(tree, dict):\n",
    "            for k, v in tree.items():\n",
    "                if isinstance(v, (dict, list)):\n",
    "                    extract(v, arr, key)\n",
    "                elif k==key:\n",
    "                    arr.append(v)\n",
    "        elif isinstance(tree, list):\n",
    "            for item in tree:\n",
    "                extract(item, arr, key)\n",
    "\n",
    "        return arr\n",
    "    values = extract(tree, arr, key)\n",
    "    return values"
   ]
  },
  {
   "cell_type": "code",
   "execution_count": 5,
   "id": "130d121d",
   "metadata": {},
   "outputs": [],
   "source": [
    "def get_gameID(date1, date2):\n",
    "    \"\"\"\n",
    "    function takes in two dates and returns all the gamePKs in that range\n",
    "    \n",
    "    \"\"\"\n",
    "    game_url_template = \"https://statsapi.mlb.com/api/v1/schedule?sportId=1&startDate=%s&endDate=%s\" % (date1, date2)\n",
    "    request = requests.get(game_url_template)\n",
    "    data = request.json()\n",
    "    gameID_list = json_extract(data, 'gamePk')\n",
    "    return gameID_list"
   ]
  },
  {
   "cell_type": "code",
   "execution_count": 6,
   "id": "8746a876",
   "metadata": {},
   "outputs": [],
   "source": [
    "def play_grabber(gamePk):\n",
    "    \"\"\"\n",
    "    take in gamePK and returns a dataframe with every pitch from that game, its outcome, batter, pitcher, etc. \n",
    "    also creates column of gamePk as a link between tables in the database\n",
    "    \"\"\"\n",
    "    try:\n",
    "        game_url = 'https://baseballsavant.mlb.com/gf?game_pk={}'.format(gamePk)\n",
    "        request = requests.get(game_url)\n",
    "        data = request.json()\n",
    "        home_plays = pd.DataFrame(data['team_home'])\n",
    "        away_plays = pd.DataFrame(data['team_away'])\n",
    "        all_plays = pd.concat([home_plays, away_plays])\n",
    "\n",
    "        return all_plays\n",
    "    except:\n",
    "        return None"
   ]
  },
  {
   "cell_type": "code",
   "execution_count": 7,
   "id": "68d9271c",
   "metadata": {},
   "outputs": [],
   "source": [
    "game_pks = get_gameID(date1=\"2023-03-30\", date2=yesterday)\n",
    "dfs = [play_grabber(x) for x in game_pks]\n",
    "dfs = pd.concat(dfs)\n",
    "hitter_dict = pd.Series(dfs.team_batting.values,index=dfs.batter_name).to_dict()\n",
    "df = pd.concat([dfs, df])\n",
    "del dfs"
   ]
  },
  {
   "cell_type": "code",
   "execution_count": 8,
   "id": "61d91a6d",
   "metadata": {},
   "outputs": [],
   "source": [
    "df = df.loc[:,~df.columns.duplicated()].copy()"
   ]
  },
  {
   "cell_type": "code",
   "execution_count": 9,
   "id": "5b3d9a77-8d11-4494-8884-344f6ceace74",
   "metadata": {},
   "outputs": [],
   "source": [
    "df = df.drop(['player_name', 'hc_x', 'hc_x_ft', 'hc_y', 'hc_y_ft', 'des', 'runnerOn1B', 'events','runnerOn2B', 'runnerOn3B', 'game_total_pitches', 'rowId', 'call', 'px', 'pz', 'ax', 'ay', 'player_total_pitches'], axis=1)\n",
    "df = df.loc[:, ~df.columns.str.contains(\"pfx\")]\n",
    "df = df.loc[:, ~df.columns.str.contains(\"calc\")]\n",
    "df = df.loc[:, ~df.columns.str.contains(\"back\")]\n",
    "df = df.loc[:, ~df.columns.str.contains(\"Unnamed\")]\n",
    "df = df.loc[:, ~df.columns.str.contains(\"0\")]\n",
    "df = df.loc[:, ~df.columns.str.contains('sz')]\n",
    "df = df.loc[:, ~df.columns.str.contains('az')]"
   ]
  },
  {
   "cell_type": "code",
   "execution_count": 10,
   "id": "bddc93ea",
   "metadata": {},
   "outputs": [],
   "source": [
    "df = df.reset_index()\n",
    "df['game_pk'] = pd.to_numeric(df['game_pk'])\n",
    "df = df.sort_values('game_pk')"
   ]
  },
  {
   "cell_type": "markdown",
   "id": "dec90d05-9ce3-465a-9440-a1451f181786",
   "metadata": {},
   "source": [
    "## Pitch Velocities"
   ]
  },
  {
   "cell_type": "code",
   "execution_count": 11,
   "id": "b3e02f5f-40f8-456d-bec2-6f7fa7a698f3",
   "metadata": {},
   "outputs": [],
   "source": [
    "pitches = ['FF', 'SL', 'SI', 'CH', 'CU', 'FC', 'KC', 'FS']\n",
    "\n",
    "for pitch in pitches:\n",
    "    df[f'{pitch}_velo'] = df[df['pitch_type'] == pitch].groupby('pitcher')['start_speed'].transform(lambda x:x.mean())\n",
    "\n",
    "for pitch in pitches:\n",
    "    df[f'{pitch}_spin'] = df[df['pitch_type'] == pitch].groupby('pitcher')['spin_rate'].transform(lambda x:x.mean())\n",
    "    \n",
    "cols = ['FF_velo', 'SL_velo', 'SI_velo', 'CH_velo', 'CU_velo', 'FC_velo', 'KC_velo', 'FS_velo', 'FF_spin', 'SL_spin', 'SI_spin', 'CH_spin', 'CU_spin', 'FC_spin', 'KC_spin', 'FS_spin']\n",
    "\n",
    "for col in cols:\n",
    "    df[col] = df.groupby('pitcher')[col].transform(lambda x:x.fillna(x.mean()))"
   ]
  },
  {
   "cell_type": "code",
   "execution_count": 12,
   "id": "c873b2c4",
   "metadata": {},
   "outputs": [],
   "source": [
    "df['hit_angle'] = pd.to_numeric(df['hit_angle'])\n",
    "df['extension'] = pd.to_numeric(df['extension'])\n",
    "df['xba'] = pd.to_numeric(df['xba'])\n",
    "df['whiff'] = np.where(df['description'] == 'Swinging Strike', 1, 0)"
   ]
  },
  {
   "cell_type": "markdown",
   "id": "5a185adb-fe3c-46ca-9a15-35f28eafd102",
   "metadata": {},
   "source": [
    "## Averages"
   ]
  },
  {
   "cell_type": "code",
   "execution_count": 13,
   "id": "2070eedd-a7d2-4001-99b3-bc4e0573f004",
   "metadata": {},
   "outputs": [],
   "source": [
    "cols = ['extension', 'hit_angle', 'xba']\n",
    "\n",
    "for col in cols:\n",
    "    df[f'{col}_avg'] = df.groupby('pitcher')[col].transform(lambda x:x.mean())"
   ]
  },
  {
   "cell_type": "markdown",
   "id": "866e94a6-a37f-43a9-a4c2-b41608973ad8",
   "metadata": {},
   "source": [
    "## Pitch and Zone Frequencies"
   ]
  },
  {
   "cell_type": "code",
   "execution_count": 14,
   "id": "20c91151-0b53-4640-ae4d-fd48fde7d420",
   "metadata": {},
   "outputs": [],
   "source": [
    "df['pitch_sum'] = df.groupby('pitcher')['pitcher'].transform('size')\n",
    "\n",
    "for pitch in pitches:\n",
    "    df[f'{pitch}_freq'] = df[df['pitch_type']==pitch].groupby(['pitcher', 'pitch_type'])['pitcher'].transform('size')/df['pitch_sum']\n",
    "\n",
    "zones = [1,2,3,4,5,6,7,8,9,11,12,13,14]\n",
    "\n",
    "for zone in zones:\n",
    "    df[f'zone_{str(zone)}_freq'] = df[df['zone'] == zone].groupby(['pitcher', 'zone'])['pitcher'].transform('size')/df['pitch_sum']\n",
    "\n",
    "freq = ['FF_freq', 'SL_freq', 'SI_freq', 'CH_freq', 'CU_freq', 'FC_freq', 'KC_freq', 'FS_freq', 'zone_1_freq', 'zone_2_freq', 'zone_3_freq', 'zone_4_freq', 'zone_5_freq', 'zone_6_freq', 'zone_7_freq','zone_8_freq', 'zone_9_freq',  'zone_11_freq', 'zone_12_freq', 'zone_13_freq', 'zone_14_freq']\n",
    "\n",
    "for col in freq:\n",
    "    df[col] = df.groupby('pitcher')[col].transform(lambda x:x.fillna(x.mean()))\n",
    "\n",
    "df = df.drop('pitch_sum', axis=1)"
   ]
  },
  {
   "cell_type": "markdown",
   "id": "9c6fe94b-2d82-4d62-8cf0-e44221ba2dba",
   "metadata": {},
   "source": [
    "## Zones"
   ]
  },
  {
   "cell_type": "code",
   "execution_count": 15,
   "id": "927a60dd-4e47-4e02-b6c6-b32e96debd4f",
   "metadata": {},
   "outputs": [],
   "source": [
    "df['upper_z'] = df['zone_1_freq'] + df['zone_2_freq'] + df['zone_3_freq'] \n",
    "df['middle_z'] = df['zone_4_freq'] + df['zone_5_freq'] + df['zone_6_freq']\n",
    "df['lower_z'] = df['zone_7_freq'] + df['zone_8_freq'] + df['zone_9_freq']\n",
    "df['strike_freq'] = df['zone_1_freq'] + df['zone_2_freq'] + df['zone_3_freq'] + df['zone_4_freq'] + df['zone_5_freq'] + df['zone_6_freq'] + df['zone_7_freq'] + df['zone_8_freq'] + df['zone_9_freq']\n",
    "df['ball_freq'] = df['zone_11_freq'] + df['zone_12_freq'] + df['zone_13_freq'] + df['zone_14_freq']\n",
    "\n",
    "df = df.loc[:,~df.columns.str.contains(\"zone_\")]"
   ]
  },
  {
   "cell_type": "markdown",
   "id": "516a7ddd-7b6f-4f69-81ae-c71b69b18fee",
   "metadata": {},
   "source": [
    "## Dummies"
   ]
  },
  {
   "cell_type": "code",
   "execution_count": 16,
   "id": "a786d71a",
   "metadata": {},
   "outputs": [],
   "source": [
    "df['righty'] = np.where(df['p_throws'] == 'R', 1, 0)\n",
    "df['lefty'] = np.where(df['p_throws'] == 'L', 1, 0)"
   ]
  },
  {
   "cell_type": "code",
   "execution_count": 17,
   "id": "9463cc7e-0965-4313-83ad-d86623d69797",
   "metadata": {},
   "outputs": [],
   "source": [
    "df['flyball'] = np.where(df['hit_angle_avg']>=df['hit_angle_avg'].describe()['75%'], 1, 0)\n",
    "df['avg_fly_ground'] = np.where((df['hit_angle_avg'] < df['hit_angle_avg'].describe()['75%']) & (df['hit_angle_avg'] > df['hit_angle_avg'].describe()['25%']), 1, 0)\n",
    "df['groundball'] = np.where(df['hit_angle_avg']<=df['hit_angle_avg'].describe()['25%'], 1, 0)"
   ]
  },
  {
   "cell_type": "code",
   "execution_count": 18,
   "id": "10f37bda-364e-4a30-8b03-d7d5203c4a95",
   "metadata": {},
   "outputs": [],
   "source": [
    "df['tall'] = np.where(df['extension_avg']>=df['extension_avg'].describe()['75%'], 1, 0)\n",
    "df['medium'] = np.where((df['extension_avg'] < df['extension_avg'].describe()['75%']) & (df['extension_avg'] > df['extension_avg'].describe()['25%']), 1, 0)\n",
    "df['short'] = np.where(df['extension_avg']<=df['extension_avg'].describe()['25%'], 1, 0)"
   ]
  },
  {
   "cell_type": "code",
   "execution_count": 19,
   "id": "7ae832b6-6405-4f59-800f-b4466ca6094b",
   "metadata": {},
   "outputs": [],
   "source": [
    "df['barrel_finder'] = np.where(df['xba_avg']>=df['xba_avg'].describe()['75%'], 1, 0)\n",
    "df['normal_barrels'] = np.where((df['xba_avg'] < df['xba_avg'].describe()['75%']) & (df['xba_avg'] > df['xba_avg'].describe()['25%']), 1, 0)\n",
    "df['barrel_misser'] = np.where(df['xba_avg']<=df['xba_avg'].describe()['25%'], 1, 0)"
   ]
  },
  {
   "cell_type": "code",
   "execution_count": 20,
   "id": "b5ef3a70-f9c2-418c-b86d-4d45d66cc5ae",
   "metadata": {},
   "outputs": [],
   "source": [
    "df['high_cheeser'] = np.where(df['upper_z'] >= df['upper_z'].describe()['75%'], 1, 0)\n",
    "df['middle_middle'] = np.where(df['middle_z'] >= df['middle_z'].describe()['75%'], 1, 0)\n",
    "df['go_fishing'] = np.where(df['lower_z'] >= df['lower_z'].describe()['75%'], 1, 0)\n",
    "\n",
    "df['wild'] = np.where(df['ball_freq'] >= df['ball_freq'].describe()['75%'], 1, 0)\n",
    "df['strike_thrower'] = np.where(df['strike_freq'] >= df['strike_freq'].describe()['75%'], 1, 0)"
   ]
  },
  {
   "cell_type": "code",
   "execution_count": 21,
   "id": "860a28f6-31ae-41ce-bd9a-b0f6e90b0c59",
   "metadata": {
    "tags": []
   },
   "outputs": [],
   "source": [
    "for pitch in pitches:\n",
    "    df[f'fast_{pitch}'] = np.where(df[f'{pitch}_velo'] >= df[f'{pitch}_velo'].describe()['75%'], 1, 0)\n",
    "    df[f'normal_{pitch}'] =  np.where((df[f'{pitch}_velo'] < df[f'{pitch}_velo'].describe()['75%']) & (df[f'{pitch}_velo'] > df[f'{pitch}_velo'].describe()['25%']), 1, 0)\n",
    "    df[f'slow_{pitch}'] = np.where(df[f'{pitch}_velo'] <= df[f'{pitch}_velo'].describe()['25%'], 1, 0)\n",
    "    \n",
    "    df[f'tight_{pitch}'] = np.where(df[f'{pitch}_spin'] >= df[f'{pitch}_spin'].describe()['75%'], 1, 0)\n",
    "    df[f'normal_spin_{pitch}'] =  np.where((df[f'{pitch}_spin'] < df[f'{pitch}_spin'].describe()['75%']) & (df[f'{pitch}_velo'] > df[f'{pitch}_velo'].describe()['25%']), 1, 0)\n",
    "    df[f'cement_mixer_{pitch}'] = np.where(df[f'{pitch}_spin'] <= df[f'{pitch}_spin'].describe()['25%'], 1, 0)"
   ]
  },
  {
   "cell_type": "markdown",
   "id": "93bd0326-f6b4-410f-b151-7663e06dbe9c",
   "metadata": {},
   "source": [
    "## Hitters\n",
    "\n",
    "Determine which zones they have highest chase rate and which pitchers would dice them. Strike three pitches by zones, homeruns by zones etc."
   ]
  },
  {
   "cell_type": "code",
   "execution_count": 22,
   "id": "7f682f99-7df1-4669-8e5b-b499c9c5d415",
   "metadata": {
    "tags": []
   },
   "outputs": [],
   "source": [
    "splits = ['righty',\n",
    "          'lefty',\n",
    "          'flyball',\n",
    "          'avg_fly_ground',\n",
    "          'groundball',\n",
    "          'tall',\n",
    "          'medium',\n",
    "          'short',\n",
    "          'barrel_finder',\n",
    "          'normal_barrels',\n",
    "          'barrel_misser',\n",
    "          'high_cheeser',\n",
    "          'middle_middle',\n",
    "          'go_fishing',\n",
    "          'wild',\n",
    "          'strike_thrower']\n",
    "\n",
    "df[splits + ['hit_angle', 'hit_speed', 'xba', 'whiff']] = df[splits + ['hit_angle', 'hit_speed', 'xba', 'whiff']].apply(pd.to_numeric, errors='coerce')\n",
    "df['avg_ev'] = df.groupby('batter')['hit_speed'].transform(lambda x:x.mean())\n",
    "df['avg_la'] = df.groupby('batter')['hit_angle'].transform(lambda x:x.mean())\n",
    "df['avg_xba'] = df.groupby('batter')['xba'].transform(lambda x:x.mean())\n",
    "\n",
    "\n",
    "df = df.sort_values(by='batter_name')\n",
    "for split in splits:\n",
    "    df['split_size'] = df.groupby(['batter', split])['batter'].transform('size')\n",
    "    df[f'la_vs_{split}'] = df.groupby(['batter',split])['hit_angle'].transform(lambda x:x.mean())\n",
    "    df[f'ev_vs_{split}'] = df.groupby(['batter', split])['hit_speed'].transform(lambda x:x.mean())\n",
    "    df[f'xba_vs_{split}'] = df.groupby(['batter', split])['xba'].transform(lambda x:x.mean())\n",
    "    df[f'whiff%_vs_{split}'] = df.groupby(['batter', split])['whiff'].transform('sum')/df['split_size']\n",
    "\n",
    "df['split_size'] = df.groupby(['batter', 'pitcher'])['batter'].transform('size')\n",
    "df['ev_vs_pitcher'] = df.groupby(['batter', 'pitcher'])['hit_speed'].transform(lambda x:x.mean())\n",
    "df['la_vs_pitcher'] = df.groupby(['batter', 'pitcher'])['hit_angle'].transform(lambda x:x.mean())\n",
    "df['xba_vs_pitcher'] = df.groupby(['batter', 'pitcher'])['xba'].transform(lambda x:x.mean())\n",
    "df['whiff%_vs_pitcher'] = df.groupby(['batter', 'pitcher'])['whiff'].transform('sum')/df['split_size']"
   ]
  },
  {
   "cell_type": "code",
   "execution_count": 23,
   "id": "420953ec",
   "metadata": {},
   "outputs": [],
   "source": [
    "df['pitcher'] = df.groupby(['batter', 'pitcher'])['hit_speed'].transform(lambda x:x.mean())"
   ]
  },
  {
   "cell_type": "code",
   "execution_count": 24,
   "id": "053acf1b",
   "metadata": {},
   "outputs": [],
   "source": [
    "df = df.sort_values(by='game_pk', ascending=True)\n",
    "df = df[df['game_pk'] > df['game_pk'].describe()['50%']]"
   ]
  },
  {
   "cell_type": "code",
   "execution_count": 25,
   "id": "cfb6b009",
   "metadata": {},
   "outputs": [],
   "source": [
    "url = 'https://www.rotowire.com/baseball/daily-lineups.php'\n",
    "xpath = '//body//div[@class=\"lineup__player-highlight-name\"]//a//text()'\n",
    "xpath_teams = '//body//div[@class=\"lineup__teams\"]//div[@class=\"lineup__abbr\"]//text()'\n",
    "results = requests.get(url)\n",
    "results_tree = html.fromstring(results.content)\n",
    "pitchers = results_tree.xpath(xpath)\n",
    "teams = results_tree.xpath(xpath_teams)"
   ]
  },
  {
   "cell_type": "code",
   "execution_count": 26,
   "id": "811f15eb",
   "metadata": {},
   "outputs": [],
   "source": [
    "away_teams = teams[::2]\n",
    "home_teams = teams[1::2]\n",
    "teams = []\n",
    "for i in range(len(away_teams)):\n",
    "    teams.append(home_teams[i])\n",
    "    teams.append(away_teams[i])\n",
    "    \n",
    "pitchers = [replace[x] if x in replace else x for x in pitchers]\n",
    "pitch_dict = {x:y for x,y in zip(pitchers, teams)}"
   ]
  },
  {
   "cell_type": "code",
   "execution_count": 27,
   "id": "15bc9b6d",
   "metadata": {},
   "outputs": [],
   "source": [
    "splits = ['righty',\n",
    "          'lefty',\n",
    "          'flyball',\n",
    "          'avg_fly_ground',\n",
    "          'groundball',\n",
    "          'tall',\n",
    "          'medium',\n",
    "          'short',\n",
    "          'barrel_finder',\n",
    "          'normal_barrels',\n",
    "          'barrel_misser',\n",
    "          'high_cheeser',\n",
    "          'middle_middle',\n",
    "          'go_fishing',\n",
    "          'wild',\n",
    "          'strike_thrower']"
   ]
  },
  {
   "cell_type": "markdown",
   "id": "afc85957-c3e8-4d41-8d6f-dbe47d79e784",
   "metadata": {},
   "source": [
    "## Daily Portion"
   ]
  },
  {
   "cell_type": "code",
   "execution_count": 33,
   "id": "8db2c199-48e4-4b85-92da-fd299761b647",
   "metadata": {
    "tags": []
   },
   "outputs": [
    {
     "name": "stdout",
     "output_type": "stream",
     "text": [
      "Jose Butto\n"
     ]
    }
   ],
   "source": [
    "\n",
    "def daily_gen(splits, pitch_dict, df, hitter_dict):\n",
    "    daily_df = pd.DataFrame()\n",
    "    la_split = [f'la_vs_{split}' for split in splits]\n",
    "    ev_split = [f'ev_vs_{split}' for split in splits]\n",
    "    xba_split = [f'xba_vs_{split}' for split in splits]\n",
    "    whiff_split = [f'whiff%_vs_{split}' for split in splits]\n",
    "\n",
    "    columns = la_split + ev_split + xba_split + whiff_split\n",
    "    for pitcher in pitch_dict.keys():\n",
    "        if pitcher not in set(list(df['pitcher_name'])):\n",
    "            print(pitcher)\n",
    "        else:\n",
    "            pitcher_df = df[df['pitcher_name'] == pitcher].drop_duplicates(subset='pitcher_name', keep='last')\n",
    "            if pitcher_df.shape[0] == 0:\n",
    "                return pitcher\n",
    "            df1 = df[df['team_batting'] == pitch_dict[pitcher]][['batter_name'] + columns]\n",
    "            df1['pitcher_name'] = pitcher\n",
    "            count = 0\n",
    "            for split in splits:\n",
    "                df1[split] = pitcher_df.iloc[0, pitcher_df.columns.get_loc(split)]\n",
    "            daily_df = pd.concat([daily_df, df1])\n",
    "    \n",
    "    daily_df = daily_df[['batter_name','pitcher_name'] + splits + la_split + ev_split + xba_split + whiff_split]\n",
    "    \n",
    "    for split in splits:\n",
    "        daily_df[f'ev_vs_{split}'] = np.where(daily_df[split] == 0, np.nan, daily_df[f'ev_vs_{split}'])\n",
    "        daily_df[f'la_vs_{split}'] = np.where(daily_df[split] == 0, np.nan, daily_df[f'la_vs_{split}'])\n",
    "        daily_df[f'xba_vs_{split}'] = np.where(daily_df[split] == 0, np.nan, daily_df[f'xba_vs_{split}'])\n",
    "        daily_df[f'whiff%_vs_{split}'] = np.where(daily_df[split] == 0, np.nan, daily_df[f'whiff%_vs_{split}'])\n",
    "\n",
    "    daily_df = daily_df.merge(df[['batter_name', 'pitcher_name', 'ev_vs_pitcher', 'la_vs_pitcher', 'xba_vs_pitcher','whiff%_vs_pitcher']], how='left', on=['batter_name', 'pitcher_name'])\n",
    "\n",
    "    weights = [10,10,5,5,5,5,5,5,5,5,5,5,5,5,5,5,2]\n",
    "    daily_df['avg_ev'] = round(daily_df[ev_split + ['ev_vs_pitcher']].mul(weights).sum(axis=1),3)\n",
    "    daily_df['avg_la'] = round(daily_df[la_split + ['la_vs_pitcher']].mul(weights).sum(axis=1),3)\n",
    "    daily_df['avg_xba'] = round(daily_df[xba_split + ['xba_vs_pitcher']].mul(weights).sum(axis=1),3)\n",
    "    daily_df['avg_whiff%'] = round(daily_df[whiff_split + ['whiff%_vs_pitcher']].mul(weights).sum(axis=1),3)\n",
    "\n",
    "    daily_df['batter_team'] = daily_df['pitcher_name'].map(pitch_dict)\n",
    "    daily_df['drop_check'] = daily_df['batter_name'].map(hitter_dict)\n",
    "    daily_df = daily_df[daily_df['batter_team'] == daily_df['drop_check']].drop_duplicates(subset='batter_name', keep='last')\n",
    "    \n",
    "    daily_df['ev_rank'] = daily_df['avg_ev'].rank(ascending=False)\n",
    "    daily_df['la_rank'] = daily_df['avg_la'].rank(ascending=False)\n",
    "    daily_df['xba_rank'] = daily_df['avg_xba'].rank(ascending=False)\n",
    "    daily_df['whiff_rank'] = daily_df['avg_whiff%'].rank(ascending=True)\n",
    "\n",
    "    weights = [0.3,0.3,0.3,0.2]\n",
    "    daily_df['stat'] = round(daily_df[['ev_rank', 'la_rank', 'xba_rank', 'whiff_rank']].mul(weights).sum(axis=1),3)\n",
    "    \n",
    "\n",
    "    return daily_df[['batter_name', 'batter_team', 'pitcher_name', 'ev_rank', 'la_rank', 'xba_rank', 'whiff_rank', 'stat']].sort_values('stat', ascending=True)\n",
    "\n",
    "df1 = daily_gen(splits, pitch_dict, df, hitter_dict)"
   ]
  },
  {
   "cell_type": "code",
   "execution_count": 34,
   "id": "4941e946",
   "metadata": {},
   "outputs": [
    {
     "data": {
      "text/html": [
       "<div>\n",
       "<style scoped>\n",
       "    .dataframe tbody tr th:only-of-type {\n",
       "        vertical-align: middle;\n",
       "    }\n",
       "\n",
       "    .dataframe tbody tr th {\n",
       "        vertical-align: top;\n",
       "    }\n",
       "\n",
       "    .dataframe thead th {\n",
       "        text-align: right;\n",
       "    }\n",
       "</style>\n",
       "<table border=\"1\" class=\"dataframe\">\n",
       "  <thead>\n",
       "    <tr style=\"text-align: right;\">\n",
       "      <th></th>\n",
       "      <th>batter_name</th>\n",
       "      <th>batter_team</th>\n",
       "      <th>pitcher_name</th>\n",
       "      <th>ev_rank</th>\n",
       "      <th>la_rank</th>\n",
       "      <th>xba_rank</th>\n",
       "      <th>whiff_rank</th>\n",
       "      <th>stat</th>\n",
       "    </tr>\n",
       "  </thead>\n",
       "  <tbody>\n",
       "    <tr>\n",
       "      <th>468458</th>\n",
       "      <td>Mike Trout</td>\n",
       "      <td>LAA</td>\n",
       "      <td>Garrett Whitlock</td>\n",
       "      <td>1.0</td>\n",
       "      <td>2.0</td>\n",
       "      <td>1.0</td>\n",
       "      <td>262.0</td>\n",
       "      <td>53.60</td>\n",
       "    </tr>\n",
       "    <tr>\n",
       "      <th>468513</th>\n",
       "      <td>Brandon Drury</td>\n",
       "      <td>LAA</td>\n",
       "      <td>Garrett Whitlock</td>\n",
       "      <td>9.0</td>\n",
       "      <td>44.0</td>\n",
       "      <td>11.0</td>\n",
       "      <td>236.0</td>\n",
       "      <td>66.40</td>\n",
       "    </tr>\n",
       "    <tr>\n",
       "      <th>467641</th>\n",
       "      <td>Taylor Ward</td>\n",
       "      <td>LAA</td>\n",
       "      <td>Garrett Whitlock</td>\n",
       "      <td>51.0</td>\n",
       "      <td>79.0</td>\n",
       "      <td>31.0</td>\n",
       "      <td>108.0</td>\n",
       "      <td>69.90</td>\n",
       "    </tr>\n",
       "    <tr>\n",
       "      <th>1320814</th>\n",
       "      <td>Rowdy Tellez</td>\n",
       "      <td>MIL</td>\n",
       "      <td>Yu Darvish</td>\n",
       "      <td>23.0</td>\n",
       "      <td>41.0</td>\n",
       "      <td>44.0</td>\n",
       "      <td>210.0</td>\n",
       "      <td>74.40</td>\n",
       "    </tr>\n",
       "    <tr>\n",
       "      <th>1237268</th>\n",
       "      <td>Will Smith</td>\n",
       "      <td>LAD</td>\n",
       "      <td>Drew Smyly</td>\n",
       "      <td>92.0</td>\n",
       "      <td>45.0</td>\n",
       "      <td>73.0</td>\n",
       "      <td>57.0</td>\n",
       "      <td>74.40</td>\n",
       "    </tr>\n",
       "    <tr>\n",
       "      <th>...</th>\n",
       "      <td>...</td>\n",
       "      <td>...</td>\n",
       "      <td>...</td>\n",
       "      <td>...</td>\n",
       "      <td>...</td>\n",
       "      <td>...</td>\n",
       "      <td>...</td>\n",
       "      <td>...</td>\n",
       "    </tr>\n",
       "    <tr>\n",
       "      <th>492369</th>\n",
       "      <td>Matt Wallner</td>\n",
       "      <td>MIN</td>\n",
       "      <td>Gerrit Cole</td>\n",
       "      <td>368.0</td>\n",
       "      <td>317.0</td>\n",
       "      <td>366.0</td>\n",
       "      <td>254.0</td>\n",
       "      <td>366.10</td>\n",
       "    </tr>\n",
       "    <tr>\n",
       "      <th>606638</th>\n",
       "      <td>Avisail Garcia</td>\n",
       "      <td>MIA</td>\n",
       "      <td>Zac Gallen</td>\n",
       "      <td>352.0</td>\n",
       "      <td>372.0</td>\n",
       "      <td>345.5</td>\n",
       "      <td>314.0</td>\n",
       "      <td>383.65</td>\n",
       "    </tr>\n",
       "    <tr>\n",
       "      <th>527297</th>\n",
       "      <td>Gabriel Arias</td>\n",
       "      <td>CLE</td>\n",
       "      <td>Patrick Corbin</td>\n",
       "      <td>375.0</td>\n",
       "      <td>375.0</td>\n",
       "      <td>365.0</td>\n",
       "      <td>248.0</td>\n",
       "      <td>384.10</td>\n",
       "    </tr>\n",
       "    <tr>\n",
       "      <th>491830</th>\n",
       "      <td>Edouard Julien</td>\n",
       "      <td>MIN</td>\n",
       "      <td>Gerrit Cole</td>\n",
       "      <td>356.0</td>\n",
       "      <td>383.0</td>\n",
       "      <td>384.0</td>\n",
       "      <td>258.5</td>\n",
       "      <td>388.60</td>\n",
       "    </tr>\n",
       "    <tr>\n",
       "      <th>451652</th>\n",
       "      <td>Zach Neto</td>\n",
       "      <td>LAA</td>\n",
       "      <td>Garrett Whitlock</td>\n",
       "      <td>299.0</td>\n",
       "      <td>384.0</td>\n",
       "      <td>383.0</td>\n",
       "      <td>373.0</td>\n",
       "      <td>394.40</td>\n",
       "    </tr>\n",
       "  </tbody>\n",
       "</table>\n",
       "<p>385 rows × 8 columns</p>\n",
       "</div>"
      ],
      "text/plain": [
       "            batter_name batter_team      pitcher_name  ev_rank  la_rank  \\\n",
       "468458       Mike Trout         LAA  Garrett Whitlock      1.0      2.0   \n",
       "468513    Brandon Drury         LAA  Garrett Whitlock      9.0     44.0   \n",
       "467641      Taylor Ward         LAA  Garrett Whitlock     51.0     79.0   \n",
       "1320814    Rowdy Tellez         MIL        Yu Darvish     23.0     41.0   \n",
       "1237268      Will Smith         LAD        Drew Smyly     92.0     45.0   \n",
       "...                 ...         ...               ...      ...      ...   \n",
       "492369     Matt Wallner         MIN       Gerrit Cole    368.0    317.0   \n",
       "606638   Avisail Garcia         MIA        Zac Gallen    352.0    372.0   \n",
       "527297    Gabriel Arias         CLE    Patrick Corbin    375.0    375.0   \n",
       "491830   Edouard Julien         MIN       Gerrit Cole    356.0    383.0   \n",
       "451652        Zach Neto         LAA  Garrett Whitlock    299.0    384.0   \n",
       "\n",
       "         xba_rank  whiff_rank    stat  \n",
       "468458        1.0       262.0   53.60  \n",
       "468513       11.0       236.0   66.40  \n",
       "467641       31.0       108.0   69.90  \n",
       "1320814      44.0       210.0   74.40  \n",
       "1237268      73.0        57.0   74.40  \n",
       "...           ...         ...     ...  \n",
       "492369      366.0       254.0  366.10  \n",
       "606638      345.5       314.0  383.65  \n",
       "527297      365.0       248.0  384.10  \n",
       "491830      384.0       258.5  388.60  \n",
       "451652      383.0       373.0  394.40  \n",
       "\n",
       "[385 rows x 8 columns]"
      ]
     },
     "execution_count": 34,
     "metadata": {},
     "output_type": "execute_result"
    }
   ],
   "source": [
    "df1"
   ]
  },
  {
   "cell_type": "code",
   "execution_count": 35,
   "id": "9fc8e167-297e-48d3-95a5-3726f5509f54",
   "metadata": {},
   "outputs": [],
   "source": [
    "df1.to_csv(f\"predictions/{today}.csv\")"
   ]
  }
 ],
 "metadata": {
  "kernelspec": {
   "display_name": "Python 3.10.7 64-bit",
   "language": "python",
   "name": "python3"
  },
  "language_info": {
   "codemirror_mode": {
    "name": "ipython",
    "version": 3
   },
   "file_extension": ".py",
   "mimetype": "text/x-python",
   "name": "python",
   "nbconvert_exporter": "python",
   "pygments_lexer": "ipython3",
   "version": "3.10.7"
  },
  "vscode": {
   "interpreter": {
    "hash": "aee8b7b246df8f9039afb4144a1f6fd8d2ca17a180786b69acc140d282b71a49"
   }
  }
 },
 "nbformat": 4,
 "nbformat_minor": 5
}
