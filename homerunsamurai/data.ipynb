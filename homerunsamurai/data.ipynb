{
 "cells": [
  {
   "cell_type": "code",
   "execution_count": 1,
   "id": "629874d2-9527-44a3-a2dc-20a0a9cf897f",
   "metadata": {},
   "outputs": [],
   "source": [
    "import pandas as pd\n",
    "import numpy as np\n",
    "import warnings\n",
    "import json\n",
    "import requests\n",
    "import os\n",
    "import io\n",
    "import sys\n",
    "from datetime import date\n",
    "from datetime import timedelta\n",
    "warnings.filterwarnings(\"ignore\")\n",
    "\n",
    "today = date.today()\n",
    "yesterday = str(today - timedelta(days = 1))"
   ]
  },
  {
   "cell_type": "code",
   "execution_count": 2,
   "id": "8cafff13-b6d8-4a25-9d1d-f0bb14440765",
   "metadata": {},
   "outputs": [],
   "source": [
    "df = pd.read_csv(\"/Users/nickdimmitt/Desktop/dfs_local/mlb/data/single_play_2022.csv\")"
   ]
  },
  {
   "cell_type": "code",
   "execution_count": 3,
   "id": "a211f0c8",
   "metadata": {},
   "outputs": [],
   "source": [
    "## function that extracts nexted values from a JSON tree\n",
    "def json_extract(tree, key):\n",
    "    arr = []\n",
    "\n",
    "    def extract(tree, arr, key):\n",
    "        if isinstance(tree, dict):\n",
    "            for k, v in tree.items():\n",
    "                if isinstance(v, (dict, list)):\n",
    "                    extract(v, arr, key)\n",
    "                elif k==key:\n",
    "                    arr.append(v)\n",
    "        elif isinstance(tree, list):\n",
    "            for item in tree:\n",
    "                extract(item, arr, key)\n",
    "\n",
    "        return arr\n",
    "    values = extract(tree, arr, key)\n",
    "    return values"
   ]
  },
  {
   "cell_type": "code",
   "execution_count": 4,
   "id": "130d121d",
   "metadata": {},
   "outputs": [],
   "source": [
    "def get_gameID(date1, date2):\n",
    "    \"\"\"\n",
    "    function takes in two dates and returns all the gamePKs in that range\n",
    "    \n",
    "    \"\"\"\n",
    "    game_url_template = \"https://statsapi.mlb.com/api/v1/schedule?sportId=1&startDate=%s&endDate=%s\" % (date1, date2)\n",
    "    request = requests.get(game_url_template)\n",
    "    data = request.json()\n",
    "    gameID_list = json_extract(data, 'gamePk')\n",
    "    return gameID_list"
   ]
  },
  {
   "cell_type": "code",
   "execution_count": 5,
   "id": "8746a876",
   "metadata": {},
   "outputs": [],
   "source": [
    "def play_grabber(gamePk):\n",
    "    \"\"\"\n",
    "    take in gamePK and returns a dataframe with every pitch from that game, its outcome, batter, pitcher, etc. \n",
    "    also creates column of gamePk as a link between tables in the database\n",
    "    \"\"\"\n",
    "    try:\n",
    "        game_url = 'https://baseballsavant.mlb.com/gf?game_pk={}'.format(gamePk)\n",
    "        request = requests.get(game_url)\n",
    "        data = request.json()\n",
    "        home_plays = pd.DataFrame(data['team_home'])\n",
    "        away_plays = pd.DataFrame(data['team_away'])\n",
    "        all_plays = pd.concat([home_plays, away_plays])\n",
    "\n",
    "        return all_plays\n",
    "    except:\n",
    "        return gamePk"
   ]
  },
  {
   "cell_type": "code",
   "execution_count": 6,
   "id": "68d9271c",
   "metadata": {},
   "outputs": [],
   "source": [
    "game_pks = get_gameID(date1=\"2023-03-30\", date2=yesterday)\n",
    "dfs = [play_grabber(x) for x in game_pks]\n",
    "dfs = pd.concat(dfs)\n",
    "df = pd.concat([dfs, df])\n",
    "del dfs"
   ]
  },
  {
   "cell_type": "code",
   "execution_count": 7,
   "id": "61d91a6d",
   "metadata": {},
   "outputs": [],
   "source": [
    "df = df.loc[:,~df.columns.duplicated()].copy()"
   ]
  },
  {
   "cell_type": "code",
   "execution_count": 11,
   "id": "5b3d9a77-8d11-4494-8884-344f6ceace74",
   "metadata": {},
   "outputs": [],
   "source": [
    "df = df.drop(['player_name', 'hc_x', 'hc_x_ft', 'hc_y', 'hc_y_ft', 'des', 'runnerOn1B', 'events','runnerOn2B', 'runnerOn3B', 'game_total_pitches', 'rowId', 'call', 'px', 'pz', 'ax', 'ay', 'player_total_pitches'], axis=1)\n",
    "df = df.loc[:, ~df.columns.str.contains(\"pfx\")]\n",
    "df = df.loc[:, ~df.columns.str.contains(\"calc\")]\n",
    "df = df.loc[:, ~df.columns.str.contains(\"back\")]\n",
    "df = df.loc[:, ~df.columns.str.contains(\"Unnamed\")]\n",
    "df = df.loc[:, ~df.columns.str.contains(\"0\")]\n",
    "df = df.loc[:, ~df.columns.str.contains('sz')]\n",
    "df = df.loc[:, ~df.columns.str.contains('az')]"
   ]
  },
  {
   "cell_type": "code",
   "execution_count": 12,
   "id": "bddc93ea",
   "metadata": {},
   "outputs": [],
   "source": [
    "df = df.reset_index()"
   ]
  },
  {
   "cell_type": "markdown",
   "id": "dec90d05-9ce3-465a-9440-a1451f181786",
   "metadata": {},
   "source": [
    "## Pitch Velocities"
   ]
  },
  {
   "cell_type": "code",
   "execution_count": 13,
   "id": "b3e02f5f-40f8-456d-bec2-6f7fa7a698f3",
   "metadata": {},
   "outputs": [],
   "source": [
    "pitches = ['FF', 'SL', 'SI', 'CH', 'CU', 'FC', 'KC', 'FS']\n",
    "\n",
    "for pitch in pitches:\n",
    "    df[f'{pitch}_velo'] = df[df['pitch_type'] == pitch].groupby('pitcher')['start_speed'].transform(lambda x:x.mean())\n",
    "\n",
    "for pitch in pitches:\n",
    "    df[f'{pitch}_spin'] = df[df['pitch_type'] == pitch].groupby('pitcher')['spin_rate'].transform(lambda x:x.mean())\n",
    "    \n",
    "cols = ['FF_velo', 'SL_velo', 'SI_velo', 'CH_velo', 'CU_velo', 'FC_velo', 'KC_velo', 'FS_velo', 'FF_spin', 'SL_spin', 'SI_spin', 'CH_spin', 'CU_spin', 'FC_spin', 'KC_spin', 'FS_spin']\n",
    "\n",
    "for col in cols:\n",
    "    df[col] = df.groupby('pitcher')[col].transform(lambda x:x.fillna(x.mean()))"
   ]
  },
  {
   "cell_type": "code",
   "execution_count": 15,
   "id": "c873b2c4",
   "metadata": {},
   "outputs": [],
   "source": [
    "df['hit_angle'] = pd.to_numeric(df['hit_angle'])\n",
    "df['extension'] = pd.to_numeric(df['extension'])\n",
    "df['xba'] = pd.to_numeric(df['xba'])\n",
    "df['whiff'] = np.where(df['description'] == 'Swinging Strike', 1, 0)"
   ]
  },
  {
   "cell_type": "markdown",
   "id": "5a185adb-fe3c-46ca-9a15-35f28eafd102",
   "metadata": {},
   "source": [
    "## Averages"
   ]
  },
  {
   "cell_type": "code",
   "execution_count": 17,
   "id": "2070eedd-a7d2-4001-99b3-bc4e0573f004",
   "metadata": {},
   "outputs": [],
   "source": [
    "cols = ['extension', 'hit_angle', 'xba']\n",
    "\n",
    "for col in cols:\n",
    "    df[f'{col}_avg'] = df.groupby('pitcher')[col].transform(lambda x:x.mean())"
   ]
  },
  {
   "cell_type": "markdown",
   "id": "866e94a6-a37f-43a9-a4c2-b41608973ad8",
   "metadata": {},
   "source": [
    "## Pitch and Zone Frequencies"
   ]
  },
  {
   "cell_type": "code",
   "execution_count": 18,
   "id": "20c91151-0b53-4640-ae4d-fd48fde7d420",
   "metadata": {},
   "outputs": [],
   "source": [
    "df['pitch_sum'] = df.groupby('pitcher')['pitcher'].transform('size')\n",
    "\n",
    "for pitch in pitches:\n",
    "    df[f'{pitch}_freq'] = df[df['pitch_type']==pitch].groupby(['pitcher', 'pitch_type'])['pitcher'].transform('size')/df['pitch_sum']\n",
    "\n",
    "zones = [1,2,3,4,5,6,7,8,9,11,12,13,14]\n",
    "\n",
    "for zone in zones:\n",
    "    df[f'zone_{str(zone)}_freq'] = df[df['zone'] == zone].groupby(['pitcher', 'zone'])['pitcher'].transform('size')/df['pitch_sum']\n",
    "\n",
    "freq = ['FF_freq', 'SL_freq', 'SI_freq', 'CH_freq', 'CU_freq', 'FC_freq', 'KC_freq', 'FS_freq', 'zone_1_freq', 'zone_2_freq', 'zone_3_freq', 'zone_4_freq', 'zone_5_freq', 'zone_6_freq', 'zone_7_freq','zone_8_freq', 'zone_9_freq',  'zone_11_freq', 'zone_12_freq', 'zone_13_freq', 'zone_14_freq']\n",
    "\n",
    "for col in freq:\n",
    "    df[col] = df.groupby('pitcher')[col].transform(lambda x:x.fillna(x.mean()))\n",
    "\n",
    "df = df.drop('pitch_sum', axis=1)"
   ]
  },
  {
   "cell_type": "markdown",
   "id": "9c6fe94b-2d82-4d62-8cf0-e44221ba2dba",
   "metadata": {},
   "source": [
    "## Zones"
   ]
  },
  {
   "cell_type": "code",
   "execution_count": 19,
   "id": "927a60dd-4e47-4e02-b6c6-b32e96debd4f",
   "metadata": {},
   "outputs": [],
   "source": [
    "df['upper_z'] = df['zone_1_freq'] + df['zone_2_freq'] + df['zone_3_freq'] \n",
    "df['middle_z'] = df['zone_4_freq'] + df['zone_5_freq'] + df['zone_6_freq']\n",
    "df['lower_z'] = df['zone_7_freq'] + df['zone_8_freq'] + df['zone_9_freq']\n",
    "df['strike_freq'] = df['zone_1_freq'] + df['zone_2_freq'] + df['zone_3_freq'] + df['zone_4_freq'] + df['zone_5_freq'] + df['zone_6_freq'] + df['zone_7_freq'] + df['zone_8_freq'] + df['zone_9_freq']\n",
    "df['ball_freq'] = df['zone_11_freq'] + df['zone_12_freq'] + df['zone_13_freq'] + df['zone_14_freq']\n",
    "\n",
    "df = df.loc[:,~df.columns.str.contains(\"zone_\")]"
   ]
  },
  {
   "cell_type": "markdown",
   "id": "516a7ddd-7b6f-4f69-81ae-c71b69b18fee",
   "metadata": {},
   "source": [
    "## Dummies"
   ]
  },
  {
   "cell_type": "code",
   "execution_count": 20,
   "id": "9463cc7e-0965-4313-83ad-d86623d69797",
   "metadata": {},
   "outputs": [],
   "source": [
    "df['flyball'] = np.where(df['hit_angle_avg']>=df['hit_angle_avg'].describe()['75%'], 1, 0)\n",
    "df['avg_fly_ground'] = np.where((df['hit_angle_avg'] < df['hit_angle_avg'].describe()['75%']) & (df['hit_angle_avg'] > df['hit_angle_avg'].describe()['25%']), 1, 0)\n",
    "df['groundball'] = np.where(df['hit_angle_avg']<=df['hit_angle_avg'].describe()['25%'], 1, 0)"
   ]
  },
  {
   "cell_type": "code",
   "execution_count": 21,
   "id": "10f37bda-364e-4a30-8b03-d7d5203c4a95",
   "metadata": {},
   "outputs": [],
   "source": [
    "df['tall'] = np.where(df['extension_avg']>=df['extension_avg'].describe()['75%'], 1, 0)\n",
    "df['medium'] = np.where((df['extension_avg'] < df['extension_avg'].describe()['75%']) & (df['extension_avg'] > df['extension_avg'].describe()['25%']), 1, 0)\n",
    "df['short'] = np.where(df['extension_avg']<=df['extension_avg'].describe()['25%'], 1, 0)"
   ]
  },
  {
   "cell_type": "code",
   "execution_count": 22,
   "id": "7ae832b6-6405-4f59-800f-b4466ca6094b",
   "metadata": {},
   "outputs": [],
   "source": [
    "df['barrel_finder'] = np.where(df['xba_avg']>=df['xba_avg'].describe()['75%'], 1, 0)\n",
    "df['normal_barrels'] = np.where((df['xba_avg'] < df['xba_avg'].describe()['75%']) & (df['xba_avg'] > df['xba_avg'].describe()['25%']), 1, 0)\n",
    "df['barrel_misser'] = np.where(df['xba_avg']<=df['xba_avg'].describe()['25%'], 1, 0)"
   ]
  },
  {
   "cell_type": "code",
   "execution_count": 23,
   "id": "b5ef3a70-f9c2-418c-b86d-4d45d66cc5ae",
   "metadata": {},
   "outputs": [],
   "source": [
    "df['high_cheeser'] = np.where(df['upper_z'] >= df['upper_z'].describe()['75%'], 1, 0)\n",
    "df['middle_middle'] = np.where(df['middle_z'] >= df['middle_z'].describe()['75%'], 1, 0)\n",
    "df['go_fishing'] = np.where(df['lower_z'] >= df['lower_z'].describe()['75%'], 1, 0)\n",
    "\n",
    "df['wild'] = np.where(df['ball_freq'] >= df['ball_freq'].describe()['75%'], 1, 0)\n",
    "df['strike_thrower'] = np.where(df['strike_freq'] >= df['strike_freq'].describe()['75%'], 1, 0)"
   ]
  },
  {
   "cell_type": "code",
   "execution_count": 24,
   "id": "860a28f6-31ae-41ce-bd9a-b0f6e90b0c59",
   "metadata": {
    "tags": []
   },
   "outputs": [],
   "source": [
    "for pitch in pitches:\n",
    "    df[f'fast_{pitch}'] = np.where(df[f'{pitch}_velo'] >= df[f'{pitch}_velo'].describe()['75%'], 1, 0)\n",
    "    df[f'normal_{pitch}'] =  np.where((df[f'{pitch}_velo'] < df[f'{pitch}_velo'].describe()['75%']) & (df[f'{pitch}_velo'] > df[f'{pitch}_velo'].describe()['25%']), 1, 0)\n",
    "    df[f'slow_{pitch}'] = np.where(df[f'{pitch}_velo'] <= df[f'{pitch}_velo'].describe()['25%'], 1, 0)\n",
    "    \n",
    "    df[f'tight_{pitch}'] = np.where(df[f'{pitch}_spin'] >= df[f'{pitch}_spin'].describe()['75%'], 1, 0)\n",
    "    df[f'normal_spin_{pitch}'] =  np.where((df[f'{pitch}_spin'] < df[f'{pitch}_spin'].describe()['75%']) & (df[f'{pitch}_velo'] > df[f'{pitch}_velo'].describe()['25%']), 1, 0)\n",
    "    df[f'cement_mixer_{pitch}'] = np.where(df[f'{pitch}_spin'] <= df[f'{pitch}_spin'].describe()['25%'], 1, 0)"
   ]
  },
  {
   "cell_type": "markdown",
   "id": "93bd0326-f6b4-410f-b151-7663e06dbe9c",
   "metadata": {},
   "source": [
    "## Hitters\n",
    "\n",
    "Determine which zones they have highest chase rate and which pitchers would dice them. Strike three pitches by zones, homeruns by zones etc."
   ]
  },
  {
   "cell_type": "code",
   "execution_count": 30,
   "id": "7f682f99-7df1-4669-8e5b-b499c9c5d415",
   "metadata": {
    "tags": []
   },
   "outputs": [],
   "source": [
    "splits = ['pitcher',\n",
    "          'p_throws',\n",
    "          'flyball',\n",
    "          'avg_fly_ground',\n",
    "          'groundball',\n",
    "          'tall',\n",
    "          'medium',\n",
    "          'short',\n",
    "          'barrel_finder',\n",
    "          'normal_barrels',\n",
    "          'barrel_misser',\n",
    "          'high_cheeser',\n",
    "          'middle_middle',\n",
    "          'go_fishing',\n",
    "          'wild',\n",
    "          'strike_thrower',\n",
    "          'fast_FF',\n",
    "          'normal_FF',\n",
    "          'slow_FF',\n",
    "          'tight_FF',\n",
    "          'normal_spin_FF',\n",
    "          'cement_mixer_FF',\n",
    "          'fast_SL',\n",
    "          'normal_SL',\n",
    "          'slow_SL',\n",
    "          'tight_SL',\n",
    "          'normal_spin_SL',\n",
    "          'cement_mixer_SL',\n",
    "          'fast_SI',\n",
    "          'normal_SI',\n",
    "          'slow_SI',\n",
    "          'tight_SI',\n",
    "          'normal_spin_SI',\n",
    "          'cement_mixer_SI',\n",
    "          'fast_CH',\n",
    "          'normal_CH',\n",
    "          'slow_CH',\n",
    "          'tight_CH',\n",
    "          'normal_spin_CH', \n",
    "          'cement_mixer_CH',\n",
    "          'fast_CU',\n",
    "          'normal_CU',\n",
    "          'slow_CU',\n",
    "          'tight_CU',\n",
    "          'normal_spin_CU',\n",
    "          'cement_mixer_CU',\n",
    "          'fast_FC',\n",
    "          'normal_FC',\n",
    "          'slow_FC',\n",
    "          'tight_FC',\n",
    "          'normal_spin_FC',\n",
    "          'cement_mixer_FC',\n",
    "          'fast_KC',\n",
    "          'normal_KC',\n",
    "          'slow_KC',\n",
    "          'tight_KC',\n",
    "          'normal_spin_KC',\n",
    "          'cement_mixer_KC',\n",
    "          'fast_FS',\n",
    "          'normal_FS',\n",
    "          'slow_FS',\n",
    "          'tight_FS',\n",
    "          'normal_spin_FS',\n",
    "          'cement_mixer_FS']\n",
    "\n",
    "\n",
    "splits = ['pitcher',\n",
    "          'p_throws',\n",
    "          'flyball',\n",
    "          'avg_fly_ground',\n",
    "          'groundball',\n",
    "          'tall',\n",
    "          'medium',\n",
    "          'short',\n",
    "          'high_cheeser',\n",
    "          'middle_middle',\n",
    "          'go_fishing',\n",
    "          'wild',\n",
    "          'strike_thrower',\n",
    "          'fast_FF',\n",
    "          'normal_FF',\n",
    "          'slow_FF',\n",
    "          'tight_FF',\n",
    "          'normal_spin_FF',\n",
    "          'cement_mixer_FF']\n",
    "\n",
    "       \n",
    "df[splits + ['hit_angle', 'hit_speed', 'xba', 'whiff']] = df[splits + ['hit_angle', 'hit_speed', 'xba', 'whiff']].apply(pd.to_numeric, errors='coerce')\n",
    "\n",
    "for split in splits:\n",
    "    df['split_size'] = df.groupby(['batter', split])['batter'].transform('size')\n",
    "    df[f'la_vs_{split}'] = df.groupby(['batter',split])['hit_angle'].transform(lambda x:x.mean())\n",
    "    df[f'ev_vs_{split}'] = df.groupby(['batter', split])['hit_speed'].transform(lambda x:x.mean())\n",
    "    df[f'xba_vs_{split}'] = df.groupby(['batter', split])['xba'].transform(lambda x:x.mean())\n",
    "    df[f'whiff%_vs_{split}'] = df[df['whiff'] == 1].groupby(['batter', split])['batter'].transform('size')/df['split_size']"
   ]
  },
  {
   "cell_type": "code",
   "execution_count": 27,
   "id": "0e6d3439",
   "metadata": {},
   "outputs": [],
   "source": [
    "## Drop by frequency\n",
    "df = df.groupby('batter_name').filter(lambda x : len(x)>500)"
   ]
  },
  {
   "cell_type": "markdown",
   "id": "afc85957-c3e8-4d41-8d6f-dbe47d79e784",
   "metadata": {},
   "source": [
    "## Daily Portion"
   ]
  },
  {
   "cell_type": "code",
   "execution_count": 33,
   "id": "8db2c199-48e4-4b85-92da-fd299761b647",
   "metadata": {
    "tags": []
   },
   "outputs": [
    {
     "name": "stdout",
     "output_type": "stream",
     "text": [
      "Jared Shuster\n",
      "Kodai Senga\n"
     ]
    }
   ],
   "source": [
    "pitch_dict = {\n",
    "    'Austin Gomber': 'SD',\n",
    "    'Seth Lugo': 'COL',\n",
    "    'Tyler Anderson': 'OAK',\n",
    "    'Ken Waldichuk': 'LAA',\n",
    "    'Chris Bassitt': 'STL',\n",
    "    'Jordan Montgomery': 'TOR',\n",
    "    'Ross Stripling': 'NYY',\n",
    "    'Jhony Brito': 'SFG',\n",
    "    'Jared Shuster': 'WAS',\n",
    "    'MacKenzie Gore': 'ATL',\n",
    "    'Cole Irvin':'BOS',\n",
    "    'Tanner Houck': 'BAL',\n",
    "    'Eric Lauer':'CHC',\n",
    "    'Jameson Taillon':'MIL',\n",
    "    'Joey Wentz':'TBR',\n",
    "    'Jeffrey Springs':'DET',\n",
    "    'Bailey Falter':'TEX',\n",
    "    'Martin Perez':'PHI',\n",
    "    'Vince Velasquez':'CIN',\n",
    "    'Graham Ashcraft':'PIT',\n",
    "    'Joe Ryan':'KC',\n",
    "    'Brad Keller':'MIN',\n",
    "    'Kodai Senga':'MIA',\n",
    "    'Trevor Rogers':'NYM',\n",
    "    'Mike Clevinger':\"HOU\",\n",
    "    'Luis Garcia':'CHW',\n",
    "    'Zach Davies':'LAD',\n",
    "    'Noah Syndergaard':'ARI',\n",
    "    'Cal Quantrill':'SEA',\n",
    "    'Marco Gonzales':'CLE'}\n",
    "\n",
    "def daily_gen(splits, pitch_dict, df):\n",
    "    daily_df = pd.DataFrame()\n",
    "    la_split = [f'la_vs_{split}' for split in splits]\n",
    "    ev_split = [f'ev_vs_{split}' for split in splits]\n",
    "    xba_split = [f'xba_vs_{split}' for split in splits]\n",
    "    whiff_split = [f'whiff%_vs_{split}' for split in splits]\n",
    "    columns = la_split + ev_split + xba_split + whiff_split\n",
    "    for pitcher in pitch_dict.keys():\n",
    "        if pitcher not in set(list(df['pitcher_name'])):\n",
    "            print(pitcher)\n",
    "        else:\n",
    "            pitcher_df = df[df['pitcher_name'] == pitcher].drop_duplicates(subset='pitcher_name', keep='last')\n",
    "            if pitcher_df.shape[0] == 0:\n",
    "                return pitcher\n",
    "            df1 = df[df['team_batting'] == pitch_dict[pitcher]][['batter_name'] + columns].drop_duplicates(subset='batter_name', keep='last')\n",
    "            df1['pitcher_name'] = pitcher\n",
    "            count = 0\n",
    "            for split in splits:\n",
    "                df1[split] = pitcher_df.iloc[0, pitcher_df.columns.get_loc(split)]\n",
    "            daily_df = pd.concat([daily_df, df1])\n",
    "    daily_df = daily_df[['batter_name','pitcher_name'] + splits + la_split + ev_split + xba_split + whiff_split]\n",
    "    for split in splits:\n",
    "        daily_df[f'ev_vs_{split}'] = np.where(daily_df[split] == 0, np.NaN, daily_df[f'ev_vs_{split}'])\n",
    "        daily_df[f'la_vs_{split}'] = np.where(daily_df[split] == 0, np.NaN, daily_df[f'la_vs_{split}'])\n",
    "        daily_df[f'xba_vs_{split}'] = np.where(daily_df[split] == 0, np.NaN, daily_df[f'xba_vs_{split}'])\n",
    "        daily_df[f'whiff%_vs_{split}'] = np.where(daily_df[split] == 0, np.NaN, daily_df[f'whiff%_vs_{split}'])\n",
    "\n",
    "    daily_df['avg_ev'] = round(daily_df[ev_split].mean(axis=1),3)\n",
    "    daily_df['avg_la'] = round(daily_df[la_split].mean(axis=1),3)\n",
    "    daily_df['avg_xba'] = round(daily_df[xba_split].mean(axis=1),3)\n",
    "    daily_df['avg_whiff%'] = round(daily_df[whiff_split].mean(axis=1),3)\n",
    "    daily_df['batter_team'] = daily_df['pitcher_name'].map(pitch_dict)\n",
    "\n",
    "    return daily_df[['batter_name', 'batter_team', 'pitcher_name', 'avg_ev', 'avg_la', 'avg_xba', 'avg_whiff%']].dropna(axis=0).sort_values(['avg_xba', 'avg_ev'], ascending=False)\n",
    "\n",
    "df1 = daily_gen(splits, pitch_dict, df)"
   ]
  },
  {
   "cell_type": "code",
   "execution_count": 36,
   "id": "9fc8e167-297e-48d3-95a5-3726f5509f54",
   "metadata": {},
   "outputs": [],
   "source": [
    "df1.to_csv(f\"predictions/{today}.csv\")"
   ]
  },
  {
   "cell_type": "code",
   "execution_count": null,
   "id": "b266079e",
   "metadata": {},
   "outputs": [],
   "source": []
  }
 ],
 "metadata": {
  "kernelspec": {
   "display_name": "Python 3.10.7 64-bit",
   "language": "python",
   "name": "python3"
  },
  "language_info": {
   "codemirror_mode": {
    "name": "ipython",
    "version": 3
   },
   "file_extension": ".py",
   "mimetype": "text/x-python",
   "name": "python",
   "nbconvert_exporter": "python",
   "pygments_lexer": "ipython3",
   "version": "3.10.7"
  },
  "vscode": {
   "interpreter": {
    "hash": "aee8b7b246df8f9039afb4144a1f6fd8d2ca17a180786b69acc140d282b71a49"
   }
  }
 },
 "nbformat": 4,
 "nbformat_minor": 5
}
