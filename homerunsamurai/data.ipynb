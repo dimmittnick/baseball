{
 "cells": [
  {
   "cell_type": "code",
   "execution_count": 127,
   "id": "629874d2-9527-44a3-a2dc-20a0a9cf897f",
   "metadata": {},
   "outputs": [],
   "source": [
    "import pandas as pd\n",
    "import numpy as np"
   ]
  },
  {
   "cell_type": "code",
   "execution_count": 128,
   "id": "8cafff13-b6d8-4a25-9d1d-f0bb14440765",
   "metadata": {},
   "outputs": [],
   "source": [
    "df = pd.read_csv(\"single_play_2022.csv\")"
   ]
  },
  {
   "cell_type": "code",
   "execution_count": 129,
   "id": "5b3d9a77-8d11-4494-8884-344f6ceace74",
   "metadata": {},
   "outputs": [],
   "source": [
    "df.drop(['player_name', 'hc_x', 'hc_x_ft', 'hc_y', 'hc_y_ft', 'des', 'runnerOn1B', 'events','runnerOn2B', 'runnerOn3B', 'game_total_pitches', 'rowId', 'call', 'px', 'pz', 'ax', 'ay', 'player_total_pitches'], axis=1, inplace=True)\n",
    "df = df.loc[:, ~df.columns.str.contains(\"pfx\")]\n",
    "df = df.loc[:, ~df.columns.str.contains(\"calc\")]\n",
    "df = df.loc[:, ~df.columns.str.contains(\"back\")]\n",
    "df = df.loc[:, ~df.columns.str.contains(\"Unnamed\")]\n",
    "df = df.loc[:, ~df.columns.str.contains(\"0\")]\n",
    "df = df.loc[:, ~df.columns.str.contains('sz')]\n",
    "df = df.loc[:, ~df.columns.str.contains('az')]"
   ]
  },
  {
   "cell_type": "markdown",
   "id": "dec90d05-9ce3-465a-9440-a1451f181786",
   "metadata": {},
   "source": [
    "## Pitch Velocities"
   ]
  },
  {
   "cell_type": "code",
   "execution_count": 130,
   "id": "b3e02f5f-40f8-456d-bec2-6f7fa7a698f3",
   "metadata": {},
   "outputs": [],
   "source": [
    "pitches = ['FF', 'SL', 'SI', 'CH', 'CU', 'FC', 'KC', 'FS']\n",
    "\n",
    "for pitch in pitches:\n",
    "    df[f'{pitch}_velo'] = df[df['pitch_type'] == pitch].groupby('pitcher')['start_speed'].transform(lambda x:x.mean())\n",
    "\n",
    "for pitch in pitches:\n",
    "    df[f'{pitch}_spin'] = df[df['pitch_type'] == pitch].groupby('pitcher')['spin_rate'].transform(lambda x:x.mean())\n",
    "    \n",
    "cols = ['FF_velo', 'SL_velo', 'SI_velo', 'CH_velo', 'CU_velo', 'FC_velo', 'KC_velo', 'FS_velo', 'FF_spin', 'SL_spin', 'SI_spin', 'CH_spin', 'CU_spin', 'FC_spin', 'KC_spin', 'FS_spin']\n",
    "\n",
    "for col in cols:\n",
    "    df[col] = df.groupby('pitcher')[col].transform(lambda x:x.fillna(x.mean()))"
   ]
  },
  {
   "cell_type": "markdown",
   "id": "5a185adb-fe3c-46ca-9a15-35f28eafd102",
   "metadata": {},
   "source": [
    "## Averages"
   ]
  },
  {
   "cell_type": "code",
   "execution_count": 131,
   "id": "2070eedd-a7d2-4001-99b3-bc4e0573f004",
   "metadata": {},
   "outputs": [],
   "source": [
    "cols = ['extension', 'hit_angle', 'xba']\n",
    "\n",
    "for col in cols:\n",
    "    df[f'{col}_avg'] = df.groupby('pitcher')[col].transform(lambda x:x.mean())"
   ]
  },
  {
   "cell_type": "markdown",
   "id": "866e94a6-a37f-43a9-a4c2-b41608973ad8",
   "metadata": {},
   "source": [
    "## Pitch and Zone Frequencies"
   ]
  },
  {
   "cell_type": "code",
   "execution_count": 132,
   "id": "20c91151-0b53-4640-ae4d-fd48fde7d420",
   "metadata": {},
   "outputs": [],
   "source": [
    "df['pitch_sum'] = df.groupby('pitcher')['pitcher'].transform('size')\n",
    "\n",
    "for pitch in pitches:\n",
    "    df[f'{pitch}_freq'] = df[df['pitch_type']==pitch].groupby(['pitcher', 'pitch_type'])['pitcher'].transform('size')/df['pitch_sum']\n",
    "\n",
    "zones = [1,2,3,4,5,6,7,8,9,11,12,13,14]\n",
    "\n",
    "for zone in zones:\n",
    "    df[f'zone_{str(zone)}_freq'] = df[df['zone'] == zone].groupby(['pitcher', 'zone'])['pitcher'].transform('size')/df['pitch_sum']\n",
    "\n",
    "freq = ['FF_freq', 'SL_freq', 'SI_freq', 'CH_freq', 'CU_freq', 'FC_freq', 'KC_freq', 'FS_freq', 'zone_1_freq', 'zone_2_freq', 'zone_3_freq', 'zone_4_freq', 'zone_5_freq', 'zone_6_freq', 'zone_7_freq','zone_8_freq', 'zone_9_freq',  'zone_11_freq', 'zone_12_freq', 'zone_13_freq', 'zone_14_freq']\n",
    "\n",
    "for col in freq:\n",
    "    df[col] = df.groupby('pitcher')[col].transform(lambda x:x.fillna(x.mean()))\n",
    "\n",
    "df.drop('pitch_sum', axis=1, inplace=True)"
   ]
  },
  {
   "cell_type": "markdown",
   "id": "9c6fe94b-2d82-4d62-8cf0-e44221ba2dba",
   "metadata": {},
   "source": [
    "## Zones"
   ]
  },
  {
   "cell_type": "code",
   "execution_count": 133,
   "id": "927a60dd-4e47-4e02-b6c6-b32e96debd4f",
   "metadata": {},
   "outputs": [],
   "source": [
    "df['upper_z'] = df['zone_1_freq'] + df['zone_2_freq'] + df['zone_3_freq'] \n",
    "df['middle_z'] = df['zone_4_freq'] + df['zone_5_freq'] + df['zone_6_freq']\n",
    "df['lower_z'] = df['zone_7_freq'] + df['zone_8_freq'] + df['zone_9_freq']\n",
    "df['strike_freq'] = df['zone_1_freq'] + df['zone_2_freq'] + df['zone_3_freq'] + df['zone_4_freq'] + df['zone_5_freq'] + df['zone_6_freq'] + df['zone_7_freq'] + df['zone_8_freq'] + df['zone_9_freq']\n",
    "df['ball_freq'] = df['zone_11_freq'] + df['zone_12_freq'] + df['zone_13_freq'] + df['zone_14_freq']\n",
    "\n",
    "df = df.loc[:,~df.columns.str.contains(\"zone_\")]"
   ]
  },
  {
   "cell_type": "markdown",
   "id": "516a7ddd-7b6f-4f69-81ae-c71b69b18fee",
   "metadata": {},
   "source": [
    "## Dummies"
   ]
  },
  {
   "cell_type": "code",
   "execution_count": 134,
   "id": "9463cc7e-0965-4313-83ad-d86623d69797",
   "metadata": {},
   "outputs": [],
   "source": [
    "df['flyball'] = np.where(df['hit_angle_avg']>=df['hit_angle_avg'].describe()['75%'], 1, 0)\n",
    "df['avg_fly_ground'] = np.where((df['hit_angle_avg'] < df['hit_angle_avg'].describe()['75%']) & (df['hit_angle_avg'] > df['hit_angle_avg'].describe()['25%']), 1, 0)\n",
    "df['groundball'] = np.where(df['hit_angle_avg']<=df['hit_angle_avg'].describe()['25%'], 1, 0)"
   ]
  },
  {
   "cell_type": "code",
   "execution_count": 135,
   "id": "10f37bda-364e-4a30-8b03-d7d5203c4a95",
   "metadata": {},
   "outputs": [],
   "source": [
    "df['tall'] = np.where(df['extension_avg']>=df['extension_avg'].describe()['75%'], 1, 0)\n",
    "df['medium'] = np.where((df['extension_avg'] < df['extension_avg'].describe()['75%']) & (df['extension_avg'] > df['extension_avg'].describe()['25%']), 1, 0)\n",
    "df['short'] = np.where(df['extension_avg']<=df['extension_avg'].describe()['25%'], 1, 0)"
   ]
  },
  {
   "cell_type": "code",
   "execution_count": 136,
   "id": "7ae832b6-6405-4f59-800f-b4466ca6094b",
   "metadata": {},
   "outputs": [],
   "source": [
    "df['barrel_finder'] = np.where(df['xba_avg']>=df['xba_avg'].describe()['75%'], 1, 0)\n",
    "df['normal_barrels'] = np.where((df['xba_avg'] < df['xba_avg'].describe()['75%']) & (df['xba_avg'] > df['xba_avg'].describe()['25%']), 1, 0)\n",
    "df['barrel_misser'] = np.where(df['xba_avg']<=df['xba_avg'].describe()['25%'], 1, 0)"
   ]
  },
  {
   "cell_type": "code",
   "execution_count": 137,
   "id": "b5ef3a70-f9c2-418c-b86d-4d45d66cc5ae",
   "metadata": {},
   "outputs": [],
   "source": [
    "df['high_cheeser'] = np.where(df['upper_z'] >= df['upper_z'].describe()['75%'], 1, 0)\n",
    "df['middle_middle'] = np.where(df['middle_z'] >= df['middle_z'].describe()['75%'], 1, 0)\n",
    "df['go_fishing'] = np.where(df['lower_z'] >= df['lower_z'].describe()['75%'], 1, 0)\n",
    "\n",
    "df['wild'] = np.where(df['ball_freq'] >= df['ball_freq'].describe()['75%'], 1, 0)\n",
    "df['strike_thrower'] = np.where(df['strike_freq'] >= df['strike_freq'].describe()['75%'], 1, 0)"
   ]
  },
  {
   "cell_type": "code",
   "execution_count": 138,
   "id": "860a28f6-31ae-41ce-bd9a-b0f6e90b0c59",
   "metadata": {
    "tags": []
   },
   "outputs": [],
   "source": [
    "for pitch in pitches:\n",
    "    df[f'fast_{pitch}'] = np.where(df[f'{pitch}_velo'] >= df[f'{pitch}_velo'].describe()['75%'], 1, 0)\n",
    "    df[f'normal_{pitch}'] =  np.where((df[f'{pitch}_velo'] < df[f'{pitch}_velo'].describe()['75%']) & (df[f'{pitch}_velo'] > df[f'{pitch}_velo'].describe()['25%']), 1, 0)\n",
    "    df[f'slow_{pitch}'] = np.where(df[f'{pitch}_velo'] <= df[f'{pitch}_velo'].describe()['25%'], 1, 0)\n",
    "    \n",
    "    df[f'tight_{pitch}'] = np.where(df[f'{pitch}_spin'] >= df[f'{pitch}_spin'].describe()['75%'], 1, 0)\n",
    "    df[f'normal_spin_{pitch}'] =  np.where((df[f'{pitch}_spin'] < df[f'{pitch}_spin'].describe()['75%']) & (df[f'{pitch}_velo'] > df[f'{pitch}_velo'].describe()['25%']), 1, 0)\n",
    "    df[f'cement_mixer_{pitch}'] = np.where(df[f'{pitch}_spin'] <= df[f'{pitch}_spin'].describe()['25%'], 1, 0)"
   ]
  },
  {
   "cell_type": "markdown",
   "id": "93bd0326-f6b4-410f-b151-7663e06dbe9c",
   "metadata": {},
   "source": [
    "## Hitters\n",
    "\n",
    "Determine which zones they have highest chase rate and which pitchers would dice them. Strike three pitches by zones, homeruns by zones etc."
   ]
  },
  {
   "cell_type": "code",
   "execution_count": 139,
   "id": "445a11c3-185b-495b-8356-dc961d2fd813",
   "metadata": {
    "tags": []
   },
   "outputs": [
    {
     "data": {
      "text/plain": [
       "array(['play_id', 'inning', 'ab_number', 'cap_index', 'outs', 'batter',\n",
       "       'stand', 'batter_name', 'pitcher', 'p_throws', 'pitcher_name',\n",
       "       'team_batting', 'team_fielding', 'team_batting_id',\n",
       "       'team_fielding_id', 'result', 'strikes', 'balls', 'pre_strikes',\n",
       "       'pre_balls', 'call_name', 'pitch_type', 'pitch_name',\n",
       "       'description', 'balls_and_strikes', 'start_speed', 'end_speed',\n",
       "       'extension', 'plateTime', 'zone', 'spin_rate', 'is_bip_out',\n",
       "       'pitch_number', 'player_total_pitches_pitch_types', 'game_pk',\n",
       "       'hit_speed_round', 'hit_speed', 'hit_distance', 'xba', 'hit_angle',\n",
       "       'is_barrel', 'FF_velo', 'SL_velo', 'SI_velo', 'CH_velo', 'CU_velo',\n",
       "       'FC_velo', 'KC_velo', 'FS_velo', 'FF_spin', 'SL_spin', 'SI_spin',\n",
       "       'CH_spin', 'CU_spin', 'FC_spin', 'KC_spin', 'FS_spin',\n",
       "       'extension_avg', 'hit_angle_avg', 'xba_avg', 'FF_freq', 'SL_freq',\n",
       "       'SI_freq', 'CH_freq', 'CU_freq', 'FC_freq', 'KC_freq', 'FS_freq',\n",
       "       'upper_z', 'middle_z', 'lower_z', 'strike_freq', 'ball_freq',\n",
       "       'flyball', 'avg_fly_ground', 'groundball', 'tall', 'medium',\n",
       "       'short', 'barrel_finder', 'normal_barrels', 'barrel_misser',\n",
       "       'high_cheeser', 'middle_middle', 'go_fishing', 'wild',\n",
       "       'strike_thrower', 'fast_FF', 'normal_FF', 'slow_FF', 'tight_FF',\n",
       "       'normal_spin_FF', 'cement_mixer_FF', 'fast_SL', 'normal_SL',\n",
       "       'slow_SL', 'tight_SL', 'normal_spin_SL', 'cement_mixer_SL',\n",
       "       'fast_SI', 'normal_SI', 'slow_SI', 'tight_SI', 'normal_spin_SI',\n",
       "       'cement_mixer_SI', 'fast_CH', 'normal_CH', 'slow_CH', 'tight_CH',\n",
       "       'normal_spin_CH', 'cement_mixer_CH', 'fast_CU', 'normal_CU',\n",
       "       'slow_CU', 'tight_CU', 'normal_spin_CU', 'cement_mixer_CU',\n",
       "       'fast_FC', 'normal_FC', 'slow_FC', 'tight_FC', 'normal_spin_FC',\n",
       "       'cement_mixer_FC', 'fast_KC', 'normal_KC', 'slow_KC', 'tight_KC',\n",
       "       'normal_spin_KC', 'cement_mixer_KC', 'fast_FS', 'normal_FS',\n",
       "       'slow_FS', 'tight_FS', 'normal_spin_FS', 'cement_mixer_FS'],\n",
       "      dtype=object)"
      ]
     },
     "execution_count": 139,
     "metadata": {},
     "output_type": "execute_result"
    }
   ],
   "source": [
    "df.columns.values"
   ]
  },
  {
   "cell_type": "code",
   "execution_count": 140,
   "id": "7f682f99-7df1-4669-8e5b-b499c9c5d415",
   "metadata": {
    "tags": []
   },
   "outputs": [
    {
     "name": "stderr",
     "output_type": "stream",
     "text": [
      "/data/conda/envs/pk43821/pk43821_env/lib/python3.7/site-packages/ipykernel_launcher.py:22: PerformanceWarning: DataFrame is highly fragmented.  This is usually the result of calling `frame.insert` many times, which has poor performance.  Consider joining all columns at once using pd.concat(axis=1) instead.  To get a de-fragmented frame, use `newframe = frame.copy()`\n",
      "/data/conda/envs/pk43821/pk43821_env/lib/python3.7/site-packages/ipykernel_launcher.py:21: PerformanceWarning: DataFrame is highly fragmented.  This is usually the result of calling `frame.insert` many times, which has poor performance.  Consider joining all columns at once using pd.concat(axis=1) instead.  To get a de-fragmented frame, use `newframe = frame.copy()`\n"
     ]
    }
   ],
   "source": [
    "splits = ['pitcher',\n",
    "          'p_throws',\n",
    "          'flyball',\n",
    "          'avg_fly_ground',\n",
    "          'groundball', 'tall', 'medium',\n",
    "       'short', 'barrel_finder', 'normal_barrels', 'barrel_misser',\n",
    "       'high_cheeser', 'middle_middle', 'go_fishing', 'wild',\n",
    "       'strike_thrower', 'fast_FF', 'normal_FF', 'slow_FF', 'tight_FF',\n",
    "       'normal_spin_FF', 'cement_mixer_FF', 'fast_SL', 'normal_SL',\n",
    "       'slow_SL', 'tight_SL', 'normal_spin_SL', 'cement_mixer_SL',\n",
    "       'fast_SI', 'normal_SI', 'slow_SI', 'tight_SI', 'normal_spin_SI',\n",
    "       'cement_mixer_SI', 'fast_CH', 'normal_CH', 'slow_CH', 'tight_CH',\n",
    "       'normal_spin_CH', 'cement_mixer_CH', 'fast_CU', 'normal_CU',\n",
    "       'slow_CU', 'tight_CU', 'normal_spin_CU', 'cement_mixer_CU',\n",
    "       'fast_FC', 'normal_FC', 'slow_FC', 'tight_FC', 'normal_spin_FC',\n",
    "       'cement_mixer_FC', 'fast_KC', 'normal_KC', 'slow_KC', 'tight_KC',\n",
    "       'normal_spin_KC', 'cement_mixer_KC', 'fast_FS', 'normal_FS',\n",
    "       'slow_FS', 'tight_FS', 'normal_spin_FS', 'cement_mixer_FS']\n",
    "\n",
    "for split in splits:\n",
    "    df[f'la_vs_{split}'] = df.groupby(['batter',split])['hit_angle'].transform(lambda x:x.mean())\n",
    "    df[f'ev_vs_{split}'] = df.groupby(['batter', split])['hit_speed'].transform(lambda x:x.mean())"
   ]
  },
  {
   "cell_type": "code",
   "execution_count": 141,
   "id": "e45ea58f-aa3c-4948-84ce-cc8bcc8cebf7",
   "metadata": {
    "tags": []
   },
   "outputs": [
    {
     "data": {
      "text/plain": [
       "NYM    6212\n",
       "NYY    6162\n",
       "PHI    5971\n",
       "PIT    5907\n",
       "ARI    5796\n",
       "DET    5754\n",
       "CLE    5696\n",
       "TOR    5545\n",
       "MIN    5537\n",
       "STL    5476\n",
       "BAL    5445\n",
       "LAA    5437\n",
       "COL    5357\n",
       "MIA    5141\n",
       "MIL    5139\n",
       "SD     5060\n",
       "WSH    5052\n",
       "LAD    5006\n",
       "SEA    4953\n",
       "HOU    4930\n",
       "CIN    4904\n",
       "TB     4887\n",
       "ATL    4866\n",
       "CHC    4757\n",
       "SF     4750\n",
       "BOS    4696\n",
       "CWS    4644\n",
       "KC     4541\n",
       "OAK    4509\n",
       "TEX    4433\n",
       "Name: team_batting, dtype: int64"
      ]
     },
     "execution_count": 141,
     "metadata": {},
     "output_type": "execute_result"
    }
   ],
   "source": [
    "df['team_batting'].value_counts()"
   ]
  },
  {
   "cell_type": "markdown",
   "id": "afc85957-c3e8-4d41-8d6f-dbe47d79e784",
   "metadata": {},
   "source": [
    "## Daily Portion"
   ]
  },
  {
   "cell_type": "code",
   "execution_count": 159,
   "id": "8db2c199-48e4-4b85-92da-fd299761b647",
   "metadata": {
    "tags": []
   },
   "outputs": [
    {
     "name": "stdout",
     "output_type": "stream",
     "text": [
      "Jacob DeGrom\n"
     ]
    }
   ],
   "source": [
    "pitch_dict = {\n",
    "    'German Marquez': 'SD',\n",
    "    'Blake Snell': 'COL',\n",
    "    'Shohei Ohtani': 'OAK',\n",
    "    'Kyle Muller': 'LAA',\n",
    "    'Alek Manoah': 'STL',\n",
    "    'Miles Mikolas': 'TOR',\n",
    "    'Logan Webb': 'NYY',\n",
    "    'Gerrit Cole': 'SFG',\n",
    "    'Max Fried': 'WAS',\n",
    "    'Patrick Corbin': 'ATL',\n",
    "    'Kyle Gibson':'BOS',\n",
    "    'Corey Kluber': 'BAL',\n",
    "    'Corbin Burnes':'CHC',\n",
    "    'Marcus Stroman':'MIL',\n",
    "    'Eduardo Rodriguez':'TBR',\n",
    "    'Shane McClanahan':'DET',\n",
    "    'Aaron Nola':'TEX',\n",
    "    'Jacob DeGrom':'PHI',\n",
    "    'Mitch Keller':'CIN',\n",
    "    'Hunter Greene':'PIT',\n",
    "    'Pablo Lopez':'KC',\n",
    "    'Zack Greinke':'MIN',\n",
    "    'Max Scherzer':'MIA',\n",
    "    'Sandy Alcantara':'NYM',\n",
    "    'Dylan Cease':\"HOU\",\n",
    "    'Framber Valdez':'CHW',\n",
    "    'Zac Gallen':'LAD',\n",
    "    'Julio Urias':'ARI',\n",
    "    'Shane Bieber':'SEA',\n",
    "    'Luis Castillo':'CLE'}\n",
    "\n",
    "def daily_gen(splits, pitch_dict, df):\n",
    "    daily_df = pd.DataFrame()\n",
    "    la_split = [f'la_vs_{split}' for split in splits]\n",
    "    ev_split = [f'ev_vs_{split}' for split in splits]\n",
    "    columns = la_split + ev_split\n",
    "    for pitcher in pitch_dict.keys():\n",
    "        if pitcher not in set(list(df['pitcher_name'])):\n",
    "            print(pitcher)\n",
    "        else:\n",
    "            pitcher_df = df[df['pitcher_name'] == pitcher].drop_duplicates(subset='pitcher_name', keep='last')\n",
    "            if pitcher_df.shape[0] == 0:\n",
    "                return pitcher\n",
    "            df1 = df[df['team_batting'] == pitch_dict[pitcher]][['batter_name'] + columns].drop_duplicates(subset='batter_name', keep='last')\n",
    "            df1['pitcher_name'] = pitcher\n",
    "            count = 0\n",
    "            for split in splits:\n",
    "                df1[split] = pitcher_df.iloc[0, pitcher_df.columns.get_loc(split)]\n",
    "            daily_df = pd.concat([daily_df, df1])\n",
    "    daily_df = daily_df[['batter_name','pitcher_name'] + splits + la_split + ev_split]\n",
    "    for split in splits:\n",
    "        daily_df[f'ev_vs_{split}'] = np.where(daily_df[split] == 0, np.NaN, daily_df[f'ev_vs_{split}'])\n",
    "        daily_df[f'la_vs_{split}'] = np.where(daily_df[split] == 0, np.NaN, daily_df[f'la_vs_{split}'])\n",
    "    daily_df['avg_ev'] = daily_df[ev_split].mean(axis=1)\n",
    "    daily_df['avg_la'] = daily_df[la_split].mean(axis=1)\n",
    "    return daily_df[['batter_name', 'pitcher_name', 'avg_ev', 'avg_la']].dropna(axis=0).sort_values('avg_ev', ascending=False)\n",
    "\n",
    "df1 = daily_gen(splits, pitch_dict, df)"
   ]
  },
  {
   "cell_type": "code",
   "execution_count": null,
   "id": "9fc8e167-297e-48d3-95a5-3726f5509f54",
   "metadata": {},
   "outputs": [],
   "source": []
  }
 ],
 "metadata": {
  "kernelspec": {
   "display_name": "pk43821_env",
   "language": "python",
   "name": "pk43821_env"
  },
  "language_info": {
   "codemirror_mode": {
    "name": "ipython",
    "version": 3
   },
   "file_extension": ".py",
   "mimetype": "text/x-python",
   "name": "python",
   "nbconvert_exporter": "python",
   "pygments_lexer": "ipython3",
   "version": "3.7.10"
  }
 },
 "nbformat": 4,
 "nbformat_minor": 5
}
