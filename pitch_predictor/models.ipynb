{
 "cells": [
  {
   "cell_type": "code",
   "execution_count": 24,
   "id": "0c524ae1-eea2-479e-810b-9f48726c95f6",
   "metadata": {},
   "outputs": [],
   "source": [
    "import pandas as pd\n",
    "import numpy as np\n",
    "import warnings\n",
    "from xgboost import XGBClassifier\n",
    "from sklearn.model_selection import train_test_split\n",
    "import joblib\n",
    "\n",
    "warnings.filterwarnings(\"ignore\")"
   ]
  },
  {
   "cell_type": "code",
   "execution_count": 25,
   "id": "8277471d-497d-4c3f-b552-ec777c64b660",
   "metadata": {},
   "outputs": [],
   "source": [
    "def data_prep(path):\n",
    "    \n",
    "    df = pd.read_csv(path)\n",
    "    df = df.loc[:,~df.columns.str.contains(\"Unnamed\")]\n",
    "    df = df[df['pitch_type'].isin([\"FF\", \"SI\", \"SL\", \"CH\", \"CU\", \"FC\", \"KC\", 'FS', \"KN\"])]\n",
    "    pitchers = list(set(df['pitcher_name']))\n",
    "    \n",
    "    mapper = {}\n",
    "    for pitcher in pitchers:\n",
    "        pitch_type = list(set(df[df['pitcher_name'] == pitcher]['pitch_type']))\n",
    "        mapper[pitcher] = {x:i for x,i in zip(pitch_type, range(len(pitch_type)))}\n",
    "    \n",
    "    return df, pitchers, mapper"
   ]
  },
  {
   "cell_type": "code",
   "execution_count": 26,
   "id": "40795813-5efe-405b-bccf-2e746619e7af",
   "metadata": {},
   "outputs": [],
   "source": [
    "df, pitchers, mapper = data_prep(\"/Users/nickdimmitt/Desktop/dfs_local/sequences/filtered/df.csv\")"
   ]
  },
  {
   "cell_type": "code",
   "execution_count": 59,
   "id": "51e198e7-afb3-4206-8b98-f0394edca0d1",
   "metadata": {},
   "outputs": [],
   "source": [
    "def feature_eng(df, pitchers, mapper):\n",
    "    \n",
    "    model_df = pd.DataFrame()\n",
    "    \n",
    "    for pitcher in pitchers:\n",
    "        temp = df[df['pitcher_name'] == pitcher].replace({'pitch_type':mapper[pitcher]})\n",
    "        model_df = pd.concat([model_df, temp])\n",
    "        model_df = model_df.loc[:,~model_df.columns.str.contains('Unnamed')]\n",
    "    del df\n",
    "    \n",
    "    model_df['pitch_type'] = model_df['pitch_type'].astype('int')\n",
    "    features = ['pitch_type', 'start_speed', 'zone']\n",
    "    \n",
    "    for col in features:\n",
    "        model_df[f\"{col}_last_pitch\"] = model_df.groupby(['game_pk', 'ab_number', 'pitcher_name'])[col].transform(lambda x:x.shift(1))\n",
    "        \n",
    "    return model_df"
   ]
  },
  {
   "cell_type": "code",
   "execution_count": 60,
   "id": "1bd784eb-e961-411a-867e-431418f4d3d2",
   "metadata": {},
   "outputs": [],
   "source": [
    "model_df = feature_eng(df, pitchers, mapper)"
   ]
  },
  {
   "cell_type": "code",
   "execution_count": 66,
   "id": "fd6d4e98-6afb-4cb8-bb30-9d5d44c8a308",
   "metadata": {},
   "outputs": [],
   "source": [
    "model_df.to_csv(\"model_rdy.csv\")"
   ]
  },
  {
   "cell_type": "code",
   "execution_count": 68,
   "id": "a19ea6cb-578b-4bc6-9dbe-76a4c818d712",
   "metadata": {},
   "outputs": [],
   "source": [
    "def models(path, pitchers):\n",
    "    \n",
    "    df = pd.read_csv(path)\n",
    "    \n",
    "    \n",
    "    for pitcher in pitchers:\n",
    "        \n",
    "        train_df = df[df['pitcher_name'] == pitcher]\n",
    "        \n",
    "        target = 'pitch_type'\n",
    "        features = ['stand', 'balls', 'strikes', 'outs', 'runnerOn1B', 'runnerOn2B', 'runnerOn3B', 'pitch_type_last_pitch', 'start_speed_last_pitch', 'zone_last_pitch']\n",
    "        \n",
    "        X = train_df[features]\n",
    "        y = train_df[target]\n",
    "        \n",
    "        if len(list(set(y))) <= 1:\n",
    "            continue\n",
    "        \n",
    "        elif len(list(set(y))) == 2:\n",
    "            model = XGBClassifier(learning_rate=0.01, n_estimators=1000, max_depth=6, objective='binary:logistic')\n",
    "        \n",
    "        else:\n",
    "            model = XGBClassifier(learning_rate=0.01, n_estimators=1000, max_depth=6, objective='multi:softmax')\n",
    "        \n",
    "        try:\n",
    "            X_train, X_test, y_train, y_test = train_test_split(X, y, test_size=0.25, random_state=44, stratify=y)\n",
    "        except:\n",
    "            continue\n",
    "        \n",
    "        model.fit(X_train, y_train)\n",
    "        pitcher = \"\".join(pitcher.split()).lower()\n",
    "        joblib.dump(model, f\"models/{pitcher}.pkl\")\n",
    "        \n",
    "    return None"
   ]
  },
  {
   "cell_type": "code",
   "execution_count": 69,
   "id": "9474b876-bac4-4e9a-b08d-7d22e7999708",
   "metadata": {},
   "outputs": [],
   "source": [
    "models(\"model_rdy.csv\", pitchers)"
   ]
  },
  {
   "cell_type": "code",
   "execution_count": 70,
   "id": "25049b6a-b02e-4ccb-9783-73bc972a6905",
   "metadata": {},
   "outputs": [],
   "source": [
    "def predict_pitch(pitches_dict):\n",
    "    \n",
    "    pitcher = input(\"Pitcher Name: \")\n",
    "    \n",
    "    pitch_mapper = pitches_dict[pitcher]\n",
    "    \n",
    "    pitcher = \"\".join(pitcher.split()).lower()\n",
    "    \n",
    "    stance = input(\"Batter Stance(r/l): \")\n",
    "    if stance == 'r':\n",
    "        stance = 1\n",
    "    else:\n",
    "        stance = 0\n",
    "        \n",
    "    balls = int(input(\"Balls: \"))\n",
    "    strikes = int(input(\"Strikes: \"))\n",
    "    outs = int(input(\"Outs: \"))\n",
    "    \n",
    "    runnerOn1B = input(\"Runner on 1B? (y/n): \")\n",
    "    if runnerOn1B == 'y':\n",
    "        runnerOn1B = 1\n",
    "    else:\n",
    "        runnerOn1B = 0\n",
    "    \n",
    "    runnerOn2B = input(\"Runner on 2B? (y/n): \")\n",
    "    if runnerOn2B == 'y':\n",
    "        runnerOn2B = 1\n",
    "    else:\n",
    "        runnerOn2B = 0\n",
    "        \n",
    "    runnerOn3B = input(\"Runner on 3B? (y/n): \")\n",
    "    if runnerOn3B == 'y':\n",
    "        runnerOn3B = 1\n",
    "    else:\n",
    "        runnerOn3B = 0\n",
    "        \n",
    "    print(list(pitch_mapper.keys()))\n",
    "    last_pitch = input(\"Last Pitch Type?: \")\n",
    "    last_pitch = pitch_mapper[last_pitch]\n",
    "    \n",
    "    last_pitch_location = int(input(\"Last Pitch Location: \"))\n",
    "    \n",
    "    last_pitch_speed = float(input(\"Last Pitch Speed: \"))\n",
    "    \n",
    "    model = joblib.load(f\"models/{pitcher}.pkl\")\n",
    "    \n",
    "    sample = pd.DataFrame({\n",
    "        'stand':[stance],\n",
    "        'balls':[balls],\n",
    "        'strikes':[strikes],\n",
    "        'outs':[outs],\n",
    "        'runnerOn1B':[runnerOn1B],\n",
    "        'runnerOn2B':[runnerOn2B],\n",
    "        'runnerOn3B':[runnerOn3B],\n",
    "        'pitch_type_last_pitch':[last_pitch],\n",
    "        'start_speed_last_pitch':[last_pitch_speed],\n",
    "        'zone_last_pitch':[last_pitch_location]})\n",
    "    \n",
    "    preds = np.array(model.predict_proba(sample)).flatten()\n",
    "    print(\"\\n\\n\")\n",
    "    print(\"Pitch Probabilities: \")\n",
    "    for x,y in zip(pitch_mapper.keys(), preds):\n",
    "        print(f'{x}: {round(y*100,2)}%')\n",
    "    return None"
   ]
  },
  {
   "cell_type": "code",
   "execution_count": 71,
   "id": "a7274819-21dc-49fe-b2a7-a09b87717e3d",
   "metadata": {},
   "outputs": [
    {
     "name": "stdout",
     "output_type": "stream",
     "text": [
      "Pitcher Name:  Gerrit Cole\n",
      "Batter Stance(r/l):  r\n",
      "Balls:  1\n",
      "Strikes:  2\n",
      "Outs:  1\n",
      "Runner on 1B? (y/n):  y\n",
      "Runner on 2B? (y/n):  n\n",
      "Runner on 3B? (y/n):  n\n"
     ]
    },
    {
     "name": "stdout",
     "output_type": "stream",
     "text": [
      "['FC', 'FF', 'SL', 'KC', 'CH', 'CU', 'SI']\n"
     ]
    },
    {
     "name": "stdout",
     "output_type": "stream",
     "text": [
      "Last Pitch Type?:  FF\n",
      "Last Pitch Location:  3\n",
      "Last Pitch Speed:  99\n"
     ]
    },
    {
     "name": "stdout",
     "output_type": "stream",
     "text": [
      "\n",
      "\n",
      "\n",
      "Pitch Probabilities: \n",
      "FC: 1.99%\n",
      "FF: 29.73%\n",
      "SL: 26.39%\n",
      "KC: 36.03%\n",
      "CH: 4.65%\n",
      "CU: 0.28%\n",
      "SI: 0.92%\n"
     ]
    }
   ],
   "source": [
    "predict_pitch(mapper)"
   ]
  }
 ],
 "metadata": {
  "kernelspec": {
   "display_name": "Python 3 (ipykernel)",
   "language": "python",
   "name": "python3"
  },
  "language_info": {
   "codemirror_mode": {
    "name": "ipython",
    "version": 3
   },
   "file_extension": ".py",
   "mimetype": "text/x-python",
   "name": "python",
   "nbconvert_exporter": "python",
   "pygments_lexer": "ipython3",
   "version": "3.9.13"
  }
 },
 "nbformat": 4,
 "nbformat_minor": 5
}
