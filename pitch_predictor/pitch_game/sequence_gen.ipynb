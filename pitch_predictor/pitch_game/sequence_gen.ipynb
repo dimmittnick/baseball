{
 "cells": [
  {
   "cell_type": "code",
   "execution_count": 64,
   "id": "e7048a2d-0d78-423c-8f63-6e6a3b8e456a",
   "metadata": {},
   "outputs": [],
   "source": [
    "import pandas as pd\n",
    "import numpy as np\n",
    "import warnings\n",
    "warnings.filterwarnings(\"ignore\")"
   ]
  },
  {
   "cell_type": "code",
   "execution_count": 65,
   "id": "bd5a2972-54f2-4196-a88a-12b9eb2717c6",
   "metadata": {},
   "outputs": [],
   "source": [
    "df = pd.read_csv(\"/Users/nickdimmitt/Desktop/dfs_local/sequences/raw/single_play_2022.csv\")\n",
    "df.drop(['player_name', 'hc_x', 'hc_x_ft', 'hc_y', 'hc_y_ft', 'des', 'events', 'game_total_pitches', 'rowId', 'call','px', 'pz', 'ax', 'ay','player_total_pitches'], axis=1, inplace=True)\n",
    "df = df.loc[:,~df.columns.str.contains('Unnamed')]\n",
    "df = df.loc[:,~df.columns.str.contains('back')]\n",
    "df = df.loc[:,~df.columns.str.contains('0')]\n",
    "df = df.loc[:,~df.columns.str.contains('sz')]\n",
    "df = df.loc[:,~df.columns.str.contains('runnerOn')]\n",
    "df = df.loc[:,~df.columns.str.contains('az')]\n",
    "df = df.loc[:,~df.columns.str.contains('calc')]"
   ]
  },
  {
   "cell_type": "code",
   "execution_count": 66,
   "id": "5f306c47-de29-4f54-8d88-f5be44450168",
   "metadata": {},
   "outputs": [],
   "source": [
    "pitches = df[['game_pk', 'ab_number', 'batter_name', 'stand', 'pitcher', 'pitcher_name', 'result', 'pitch_type', 'description', 'start_speed', 'zone', 'hit_speed', 'hit_distance', 'xba', 'hit_angle', 'is_barrel']]"
   ]
  },
  {
   "cell_type": "code",
   "execution_count": 67,
   "id": "00d66267-e57d-4ed4-a335-31f7b77a080e",
   "metadata": {},
   "outputs": [],
   "source": [
    "sequence = pd.DataFrame(pitches.groupby(['game_pk', 'ab_number'])['pitch_type'].apply(list)).reset_index()\n",
    "balls_strikes = pd.DataFrame(pitches.groupby(['game_pk', 'ab_number'])['description'].apply(list)).reset_index()\n",
    "zone = pd.DataFrame(pitches.groupby(['game_pk', 'ab_number'])['zone'].apply(list)).reset_index()"
   ]
  },
  {
   "cell_type": "code",
   "execution_count": 68,
   "id": "4b9ea74c-8418-42c3-aa31-31bb3ef47382",
   "metadata": {},
   "outputs": [],
   "source": [
    "results = pd.DataFrame(pitches.groupby(['game_pk', 'ab_number'])['result'].apply(list)).reset_index()\n",
    "results['result'] = results['result'].str[0]"
   ]
  },
  {
   "cell_type": "code",
   "execution_count": 69,
   "id": "f2e2a92f-d90e-480d-917b-833be515f375",
   "metadata": {},
   "outputs": [],
   "source": [
    "trend1 = pd.merge(sequence, results)\n",
    "trend2 = pd.merge(balls_strikes, zone)\n",
    "trend = pd.merge(trend1, trend2)"
   ]
  },
  {
   "cell_type": "code",
   "execution_count": 70,
   "id": "9c798f5a-2ab5-40dd-a462-d6e0a69f0689",
   "metadata": {},
   "outputs": [],
   "source": [
    "trend.to_csv('/Users/nickdimmitt/Desktop/dfs_local/sequences/filtered/2022_trend_seq.csv')"
   ]
  },
  {
   "cell_type": "code",
   "execution_count": null,
   "id": "bc692047-cc77-41f5-aa42-d8bd61fcab60",
   "metadata": {},
   "outputs": [],
   "source": []
  }
 ],
 "metadata": {
  "kernelspec": {
   "display_name": "Python 3 (ipykernel)",
   "language": "python",
   "name": "python3"
  },
  "language_info": {
   "codemirror_mode": {
    "name": "ipython",
    "version": 3
   },
   "file_extension": ".py",
   "mimetype": "text/x-python",
   "name": "python",
   "nbconvert_exporter": "python",
   "pygments_lexer": "ipython3",
   "version": "3.9.13"
  }
 },
 "nbformat": 4,
 "nbformat_minor": 5
}
